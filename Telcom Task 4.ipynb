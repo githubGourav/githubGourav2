{
 "cells": [
  {
   "cell_type": "code",
   "execution_count": 1,
   "id": "f6d1752b",
   "metadata": {},
   "outputs": [],
   "source": [
    "import numpy as np\n",
    "import pandas as pd\n",
    "import matplotlib.pyplot as plt\n",
    "import seaborn as sns\n",
    "%matplotlib inline\n",
    "import warnings\n",
    "warnings.filterwarnings('ignore')"
   ]
  },
  {
   "cell_type": "code",
   "execution_count": 2,
   "id": "b9dc8a41",
   "metadata": {},
   "outputs": [],
   "source": [
    "data=pd.read_csv(\"telcom_data.csv\")"
   ]
  },
  {
   "cell_type": "markdown",
   "id": "641300b7",
   "metadata": {},
   "source": [
    "# Task 4.1 "
   ]
  },
  {
   "cell_type": "markdown",
   "id": "16b4aac7",
   "metadata": {},
   "source": [
    "###  engagement score to each user. Consider the engagement score as the Euclidean distance between the user data point & the less engaged cluster (use the first clustering for this) (Euclidean Distance)"
   ]
  },
  {
   "cell_type": "markdown",
   "id": "8235d9c3",
   "metadata": {},
   "source": [
    "# Engagement analysis"
   ]
  },
  {
   "cell_type": "code",
   "execution_count": 3,
   "id": "acdbabde",
   "metadata": {},
   "outputs": [],
   "source": [
    "session_frequency = data.groupby(by=['MSISDN/Number'])['Dur. (ms)'].transform('count')"
   ]
  },
  {
   "cell_type": "code",
   "execution_count": 4,
   "id": "b6bdf908",
   "metadata": {},
   "outputs": [
    {
     "data": {
      "text/plain": [
       "150001"
      ]
     },
     "execution_count": 4,
     "metadata": {},
     "output_type": "execute_result"
    }
   ],
   "source": [
    "len(session_frequency)"
   ]
  },
  {
   "cell_type": "code",
   "execution_count": 5,
   "id": "99a42b90",
   "metadata": {},
   "outputs": [
    {
     "data": {
      "text/plain": [
       "150001"
      ]
     },
     "execution_count": 5,
     "metadata": {},
     "output_type": "execute_result"
    }
   ],
   "source": [
    "# Calculate session duration by subtracting \"End ms\" from \"Start ms\"\n",
    "Session_Duration = data['Dur. (ms)']\n",
    "len(Session_Duration)"
   ]
  },
  {
   "cell_type": "code",
   "execution_count": 6,
   "id": "b48bae2c",
   "metadata": {},
   "outputs": [
    {
     "data": {
      "text/plain": [
       "150001"
      ]
     },
     "execution_count": 6,
     "metadata": {},
     "output_type": "execute_result"
    }
   ],
   "source": [
    "total_traffic = data['Total DL (Bytes)'] + data['Total UL (Bytes)']\n",
    "len(total_traffic)"
   ]
  },
  {
   "cell_type": "code",
   "execution_count": 7,
   "id": "6f509dc0",
   "metadata": {},
   "outputs": [],
   "source": [
    "data['Session Frequency'] = session_frequency\n",
    "data['Session Duration'] = Session_Duration\n",
    "data['Total Traffic'] = total_traffic"
   ]
  },
  {
   "cell_type": "code",
   "execution_count": 8,
   "id": "9b165e4c",
   "metadata": {
    "scrolled": true
   },
   "outputs": [
    {
     "data": {
      "text/html": [
       "<div>\n",
       "<style scoped>\n",
       "    .dataframe tbody tr th:only-of-type {\n",
       "        vertical-align: middle;\n",
       "    }\n",
       "\n",
       "    .dataframe tbody tr th {\n",
       "        vertical-align: top;\n",
       "    }\n",
       "\n",
       "    .dataframe thead th {\n",
       "        text-align: right;\n",
       "    }\n",
       "</style>\n",
       "<table border=\"1\" class=\"dataframe\">\n",
       "  <thead>\n",
       "    <tr style=\"text-align: right;\">\n",
       "      <th></th>\n",
       "      <th>Bearer Id</th>\n",
       "      <th>Start</th>\n",
       "      <th>Start ms</th>\n",
       "      <th>End</th>\n",
       "      <th>End ms</th>\n",
       "      <th>Dur. (ms)</th>\n",
       "      <th>IMSI</th>\n",
       "      <th>MSISDN/Number</th>\n",
       "      <th>IMEI</th>\n",
       "      <th>Last Location Name</th>\n",
       "      <th>...</th>\n",
       "      <th>Netflix UL (Bytes)</th>\n",
       "      <th>Gaming DL (Bytes)</th>\n",
       "      <th>Gaming UL (Bytes)</th>\n",
       "      <th>Other DL (Bytes)</th>\n",
       "      <th>Other UL (Bytes)</th>\n",
       "      <th>Total UL (Bytes)</th>\n",
       "      <th>Total DL (Bytes)</th>\n",
       "      <th>Session Frequency</th>\n",
       "      <th>Session Duration</th>\n",
       "      <th>Total Traffic</th>\n",
       "    </tr>\n",
       "  </thead>\n",
       "  <tbody>\n",
       "    <tr>\n",
       "      <th>0</th>\n",
       "      <td>1.311448e+19</td>\n",
       "      <td>4/4/2019 12:01</td>\n",
       "      <td>770.0</td>\n",
       "      <td>4/25/2019 14:35</td>\n",
       "      <td>662.0</td>\n",
       "      <td>1823652.0</td>\n",
       "      <td>2.082014e+14</td>\n",
       "      <td>3.366496e+10</td>\n",
       "      <td>3.552121e+13</td>\n",
       "      <td>9.16456699548519E+015</td>\n",
       "      <td>...</td>\n",
       "      <td>9.656251e+06</td>\n",
       "      <td>2.780823e+08</td>\n",
       "      <td>1.434415e+07</td>\n",
       "      <td>1.717444e+08</td>\n",
       "      <td>8.814393e+06</td>\n",
       "      <td>36749741.0</td>\n",
       "      <td>308879636.0</td>\n",
       "      <td>2.0</td>\n",
       "      <td>1823652.0</td>\n",
       "      <td>345629377.0</td>\n",
       "    </tr>\n",
       "    <tr>\n",
       "      <th>1</th>\n",
       "      <td>1.311448e+19</td>\n",
       "      <td>4/9/2019 13:04</td>\n",
       "      <td>235.0</td>\n",
       "      <td>4/25/2019 8:15</td>\n",
       "      <td>606.0</td>\n",
       "      <td>1365104.0</td>\n",
       "      <td>2.082019e+14</td>\n",
       "      <td>3.368185e+10</td>\n",
       "      <td>3.579401e+13</td>\n",
       "      <td>L77566A</td>\n",
       "      <td>...</td>\n",
       "      <td>1.722713e+07</td>\n",
       "      <td>6.087501e+08</td>\n",
       "      <td>1.170709e+06</td>\n",
       "      <td>5.269042e+08</td>\n",
       "      <td>1.505514e+07</td>\n",
       "      <td>53800391.0</td>\n",
       "      <td>653384965.0</td>\n",
       "      <td>2.0</td>\n",
       "      <td>1365104.0</td>\n",
       "      <td>707185356.0</td>\n",
       "    </tr>\n",
       "    <tr>\n",
       "      <th>2</th>\n",
       "      <td>1.311448e+19</td>\n",
       "      <td>4/9/2019 17:42</td>\n",
       "      <td>1.0</td>\n",
       "      <td>4/25/2019 11:58</td>\n",
       "      <td>652.0</td>\n",
       "      <td>1361762.0</td>\n",
       "      <td>2.082003e+14</td>\n",
       "      <td>3.376063e+10</td>\n",
       "      <td>3.528151e+13</td>\n",
       "      <td>D42335A</td>\n",
       "      <td>...</td>\n",
       "      <td>6.163408e+06</td>\n",
       "      <td>2.295846e+08</td>\n",
       "      <td>3.956300e+05</td>\n",
       "      <td>4.106926e+08</td>\n",
       "      <td>4.215763e+06</td>\n",
       "      <td>27883638.0</td>\n",
       "      <td>279807335.0</td>\n",
       "      <td>1.0</td>\n",
       "      <td>1361762.0</td>\n",
       "      <td>307690973.0</td>\n",
       "    </tr>\n",
       "    <tr>\n",
       "      <th>3</th>\n",
       "      <td>1.311448e+19</td>\n",
       "      <td>4/10/2019 0:31</td>\n",
       "      <td>486.0</td>\n",
       "      <td>4/25/2019 7:36</td>\n",
       "      <td>171.0</td>\n",
       "      <td>1321509.0</td>\n",
       "      <td>2.082014e+14</td>\n",
       "      <td>3.375034e+10</td>\n",
       "      <td>3.535661e+13</td>\n",
       "      <td>T21824A</td>\n",
       "      <td>...</td>\n",
       "      <td>1.097942e+06</td>\n",
       "      <td>7.995382e+08</td>\n",
       "      <td>1.084972e+07</td>\n",
       "      <td>7.490399e+08</td>\n",
       "      <td>1.279728e+07</td>\n",
       "      <td>43324218.0</td>\n",
       "      <td>846028530.0</td>\n",
       "      <td>1.0</td>\n",
       "      <td>1321509.0</td>\n",
       "      <td>889352748.0</td>\n",
       "    </tr>\n",
       "    <tr>\n",
       "      <th>4</th>\n",
       "      <td>1.311448e+19</td>\n",
       "      <td>4/12/2019 20:10</td>\n",
       "      <td>565.0</td>\n",
       "      <td>4/25/2019 10:40</td>\n",
       "      <td>954.0</td>\n",
       "      <td>1089009.0</td>\n",
       "      <td>2.082014e+14</td>\n",
       "      <td>3.369980e+10</td>\n",
       "      <td>3.540701e+13</td>\n",
       "      <td>D88865A</td>\n",
       "      <td>...</td>\n",
       "      <td>4.152180e+05</td>\n",
       "      <td>5.277072e+08</td>\n",
       "      <td>3.529801e+06</td>\n",
       "      <td>5.507095e+08</td>\n",
       "      <td>1.391032e+07</td>\n",
       "      <td>38542814.0</td>\n",
       "      <td>569138589.0</td>\n",
       "      <td>1.0</td>\n",
       "      <td>1089009.0</td>\n",
       "      <td>607681403.0</td>\n",
       "    </tr>\n",
       "    <tr>\n",
       "      <th>...</th>\n",
       "      <td>...</td>\n",
       "      <td>...</td>\n",
       "      <td>...</td>\n",
       "      <td>...</td>\n",
       "      <td>...</td>\n",
       "      <td>...</td>\n",
       "      <td>...</td>\n",
       "      <td>...</td>\n",
       "      <td>...</td>\n",
       "      <td>...</td>\n",
       "      <td>...</td>\n",
       "      <td>...</td>\n",
       "      <td>...</td>\n",
       "      <td>...</td>\n",
       "      <td>...</td>\n",
       "      <td>...</td>\n",
       "      <td>...</td>\n",
       "      <td>...</td>\n",
       "      <td>...</td>\n",
       "      <td>...</td>\n",
       "      <td>...</td>\n",
       "    </tr>\n",
       "    <tr>\n",
       "      <th>149996</th>\n",
       "      <td>7.277826e+18</td>\n",
       "      <td>4/29/2019 7:28</td>\n",
       "      <td>451.0</td>\n",
       "      <td>4/30/2019 6:02</td>\n",
       "      <td>214.0</td>\n",
       "      <td>81230.0</td>\n",
       "      <td>2.082022e+14</td>\n",
       "      <td>3.365069e+10</td>\n",
       "      <td>3.548311e+13</td>\n",
       "      <td>D20434A</td>\n",
       "      <td>...</td>\n",
       "      <td>1.967816e+07</td>\n",
       "      <td>5.266097e+08</td>\n",
       "      <td>9.197207e+06</td>\n",
       "      <td>3.264510e+06</td>\n",
       "      <td>1.348742e+07</td>\n",
       "      <td>57628851.0</td>\n",
       "      <td>574175259.0</td>\n",
       "      <td>1.0</td>\n",
       "      <td>81230.0</td>\n",
       "      <td>631804110.0</td>\n",
       "    </tr>\n",
       "    <tr>\n",
       "      <th>149997</th>\n",
       "      <td>7.349883e+18</td>\n",
       "      <td>4/29/2019 7:28</td>\n",
       "      <td>483.0</td>\n",
       "      <td>4/30/2019 10:41</td>\n",
       "      <td>187.0</td>\n",
       "      <td>97970.0</td>\n",
       "      <td>2.082019e+14</td>\n",
       "      <td>3.366345e+10</td>\n",
       "      <td>3.566051e+13</td>\n",
       "      <td>D10223C</td>\n",
       "      <td>...</td>\n",
       "      <td>2.129315e+07</td>\n",
       "      <td>6.268931e+08</td>\n",
       "      <td>4.735033e+06</td>\n",
       "      <td>7.121804e+08</td>\n",
       "      <td>2.457758e+06</td>\n",
       "      <td>39135081.0</td>\n",
       "      <td>666648844.0</td>\n",
       "      <td>2.0</td>\n",
       "      <td>97970.0</td>\n",
       "      <td>705783925.0</td>\n",
       "    </tr>\n",
       "    <tr>\n",
       "      <th>149998</th>\n",
       "      <td>1.311448e+19</td>\n",
       "      <td>4/29/2019 7:28</td>\n",
       "      <td>283.0</td>\n",
       "      <td>4/30/2019 10:46</td>\n",
       "      <td>810.0</td>\n",
       "      <td>98249.0</td>\n",
       "      <td>2.082017e+14</td>\n",
       "      <td>3.362189e+10</td>\n",
       "      <td>3.572121e+13</td>\n",
       "      <td>T51102A</td>\n",
       "      <td>...</td>\n",
       "      <td>5.065760e+06</td>\n",
       "      <td>5.535395e+08</td>\n",
       "      <td>1.339432e+07</td>\n",
       "      <td>1.211009e+08</td>\n",
       "      <td>1.131473e+07</td>\n",
       "      <td>34912224.0</td>\n",
       "      <td>592786405.0</td>\n",
       "      <td>1.0</td>\n",
       "      <td>98249.0</td>\n",
       "      <td>627698629.0</td>\n",
       "    </tr>\n",
       "    <tr>\n",
       "      <th>149999</th>\n",
       "      <td>1.311448e+19</td>\n",
       "      <td>4/29/2019 7:28</td>\n",
       "      <td>696.0</td>\n",
       "      <td>4/30/2019 10:40</td>\n",
       "      <td>327.0</td>\n",
       "      <td>97910.0</td>\n",
       "      <td>2.082021e+14</td>\n",
       "      <td>3.361962e+10</td>\n",
       "      <td>8.618620e+13</td>\n",
       "      <td>L88342B</td>\n",
       "      <td>...</td>\n",
       "      <td>1.317259e+07</td>\n",
       "      <td>3.525370e+08</td>\n",
       "      <td>2.529475e+06</td>\n",
       "      <td>8.147131e+08</td>\n",
       "      <td>1.406930e+06</td>\n",
       "      <td>29626096.0</td>\n",
       "      <td>371895920.0</td>\n",
       "      <td>1.0</td>\n",
       "      <td>97910.0</td>\n",
       "      <td>401522016.0</td>\n",
       "    </tr>\n",
       "    <tr>\n",
       "      <th>150000</th>\n",
       "      <td>NaN</td>\n",
       "      <td>NaN</td>\n",
       "      <td>NaN</td>\n",
       "      <td>NaN</td>\n",
       "      <td>NaN</td>\n",
       "      <td>NaN</td>\n",
       "      <td>NaN</td>\n",
       "      <td>NaN</td>\n",
       "      <td>NaN</td>\n",
       "      <td>NaN</td>\n",
       "      <td>...</td>\n",
       "      <td>1.100175e+07</td>\n",
       "      <td>4.220447e+08</td>\n",
       "      <td>8.288398e+06</td>\n",
       "      <td>4.211005e+08</td>\n",
       "      <td>8.264799e+06</td>\n",
       "      <td>NaN</td>\n",
       "      <td>NaN</td>\n",
       "      <td>NaN</td>\n",
       "      <td>NaN</td>\n",
       "      <td>NaN</td>\n",
       "    </tr>\n",
       "  </tbody>\n",
       "</table>\n",
       "<p>150001 rows × 58 columns</p>\n",
       "</div>"
      ],
      "text/plain": [
       "           Bearer Id            Start  Start ms              End  End ms  \\\n",
       "0       1.311448e+19   4/4/2019 12:01     770.0  4/25/2019 14:35   662.0   \n",
       "1       1.311448e+19   4/9/2019 13:04     235.0   4/25/2019 8:15   606.0   \n",
       "2       1.311448e+19   4/9/2019 17:42       1.0  4/25/2019 11:58   652.0   \n",
       "3       1.311448e+19   4/10/2019 0:31     486.0   4/25/2019 7:36   171.0   \n",
       "4       1.311448e+19  4/12/2019 20:10     565.0  4/25/2019 10:40   954.0   \n",
       "...              ...              ...       ...              ...     ...   \n",
       "149996  7.277826e+18   4/29/2019 7:28     451.0   4/30/2019 6:02   214.0   \n",
       "149997  7.349883e+18   4/29/2019 7:28     483.0  4/30/2019 10:41   187.0   \n",
       "149998  1.311448e+19   4/29/2019 7:28     283.0  4/30/2019 10:46   810.0   \n",
       "149999  1.311448e+19   4/29/2019 7:28     696.0  4/30/2019 10:40   327.0   \n",
       "150000           NaN              NaN       NaN              NaN     NaN   \n",
       "\n",
       "        Dur. (ms)          IMSI  MSISDN/Number          IMEI  \\\n",
       "0       1823652.0  2.082014e+14   3.366496e+10  3.552121e+13   \n",
       "1       1365104.0  2.082019e+14   3.368185e+10  3.579401e+13   \n",
       "2       1361762.0  2.082003e+14   3.376063e+10  3.528151e+13   \n",
       "3       1321509.0  2.082014e+14   3.375034e+10  3.535661e+13   \n",
       "4       1089009.0  2.082014e+14   3.369980e+10  3.540701e+13   \n",
       "...           ...           ...            ...           ...   \n",
       "149996    81230.0  2.082022e+14   3.365069e+10  3.548311e+13   \n",
       "149997    97970.0  2.082019e+14   3.366345e+10  3.566051e+13   \n",
       "149998    98249.0  2.082017e+14   3.362189e+10  3.572121e+13   \n",
       "149999    97910.0  2.082021e+14   3.361962e+10  8.618620e+13   \n",
       "150000        NaN           NaN            NaN           NaN   \n",
       "\n",
       "           Last Location Name  ...  Netflix UL (Bytes)  Gaming DL (Bytes)  \\\n",
       "0       9.16456699548519E+015  ...        9.656251e+06       2.780823e+08   \n",
       "1                     L77566A  ...        1.722713e+07       6.087501e+08   \n",
       "2                     D42335A  ...        6.163408e+06       2.295846e+08   \n",
       "3                     T21824A  ...        1.097942e+06       7.995382e+08   \n",
       "4                     D88865A  ...        4.152180e+05       5.277072e+08   \n",
       "...                       ...  ...                 ...                ...   \n",
       "149996                D20434A  ...        1.967816e+07       5.266097e+08   \n",
       "149997                D10223C  ...        2.129315e+07       6.268931e+08   \n",
       "149998                T51102A  ...        5.065760e+06       5.535395e+08   \n",
       "149999                L88342B  ...        1.317259e+07       3.525370e+08   \n",
       "150000                    NaN  ...        1.100175e+07       4.220447e+08   \n",
       "\n",
       "        Gaming UL (Bytes)  Other DL (Bytes)  Other UL (Bytes)  \\\n",
       "0            1.434415e+07      1.717444e+08      8.814393e+06   \n",
       "1            1.170709e+06      5.269042e+08      1.505514e+07   \n",
       "2            3.956300e+05      4.106926e+08      4.215763e+06   \n",
       "3            1.084972e+07      7.490399e+08      1.279728e+07   \n",
       "4            3.529801e+06      5.507095e+08      1.391032e+07   \n",
       "...                   ...               ...               ...   \n",
       "149996       9.197207e+06      3.264510e+06      1.348742e+07   \n",
       "149997       4.735033e+06      7.121804e+08      2.457758e+06   \n",
       "149998       1.339432e+07      1.211009e+08      1.131473e+07   \n",
       "149999       2.529475e+06      8.147131e+08      1.406930e+06   \n",
       "150000       8.288398e+06      4.211005e+08      8.264799e+06   \n",
       "\n",
       "        Total UL (Bytes)  Total DL (Bytes)  Session Frequency  \\\n",
       "0             36749741.0       308879636.0                2.0   \n",
       "1             53800391.0       653384965.0                2.0   \n",
       "2             27883638.0       279807335.0                1.0   \n",
       "3             43324218.0       846028530.0                1.0   \n",
       "4             38542814.0       569138589.0                1.0   \n",
       "...                  ...               ...                ...   \n",
       "149996        57628851.0       574175259.0                1.0   \n",
       "149997        39135081.0       666648844.0                2.0   \n",
       "149998        34912224.0       592786405.0                1.0   \n",
       "149999        29626096.0       371895920.0                1.0   \n",
       "150000               NaN               NaN                NaN   \n",
       "\n",
       "        Session Duration  Total Traffic  \n",
       "0              1823652.0    345629377.0  \n",
       "1              1365104.0    707185356.0  \n",
       "2              1361762.0    307690973.0  \n",
       "3              1321509.0    889352748.0  \n",
       "4              1089009.0    607681403.0  \n",
       "...                  ...            ...  \n",
       "149996           81230.0    631804110.0  \n",
       "149997           97970.0    705783925.0  \n",
       "149998           98249.0    627698629.0  \n",
       "149999           97910.0    401522016.0  \n",
       "150000               NaN            NaN  \n",
       "\n",
       "[150001 rows x 58 columns]"
      ]
     },
     "execution_count": 8,
     "metadata": {},
     "output_type": "execute_result"
    }
   ],
   "source": [
    "data"
   ]
  },
  {
   "cell_type": "code",
   "execution_count": 9,
   "id": "30e2bd5b",
   "metadata": {},
   "outputs": [
    {
     "data": {
      "text/plain": [
       "Index(['Bearer Id', 'Start', 'Start ms', 'End', 'End ms', 'Dur. (ms)', 'IMSI',\n",
       "       'MSISDN/Number', 'IMEI', 'Last Location Name', 'Avg RTT DL (ms)',\n",
       "       'Avg RTT UL (ms)', 'Avg Bearer TP DL (kbps)', 'Avg Bearer TP UL (kbps)',\n",
       "       'TCP DL Retrans. Vol (Bytes)', 'TCP UL Retrans. Vol (Bytes)',\n",
       "       'DL TP < 50 Kbps (%)', '50 Kbps < DL TP < 250 Kbps (%)',\n",
       "       '250 Kbps < DL TP < 1 Mbps (%)', 'DL TP > 1 Mbps (%)',\n",
       "       'UL TP < 10 Kbps (%)', '10 Kbps < UL TP < 50 Kbps (%)',\n",
       "       '50 Kbps < UL TP < 300 Kbps (%)', 'UL TP > 300 Kbps (%)',\n",
       "       'HTTP DL (Bytes)', 'HTTP UL (Bytes)', 'Activity Duration DL (ms)',\n",
       "       'Activity Duration UL (ms)', 'Dur. (ms).1', 'Handset Manufacturer',\n",
       "       'Handset Type', 'Nb of sec with 125000B < Vol DL',\n",
       "       'Nb of sec with 1250B < Vol UL < 6250B',\n",
       "       'Nb of sec with 31250B < Vol DL < 125000B',\n",
       "       'Nb of sec with 37500B < Vol UL',\n",
       "       'Nb of sec with 6250B < Vol DL < 31250B',\n",
       "       'Nb of sec with 6250B < Vol UL < 37500B',\n",
       "       'Nb of sec with Vol DL < 6250B', 'Nb of sec with Vol UL < 1250B',\n",
       "       'Social Media DL (Bytes)', 'Social Media UL (Bytes)',\n",
       "       'Google DL (Bytes)', 'Google UL (Bytes)', 'Email DL (Bytes)',\n",
       "       'Email UL (Bytes)', 'Youtube DL (Bytes)', 'Youtube UL (Bytes)',\n",
       "       'Netflix DL (Bytes)', 'Netflix UL (Bytes)', 'Gaming DL (Bytes)',\n",
       "       'Gaming UL (Bytes)', 'Other DL (Bytes)', 'Other UL (Bytes)',\n",
       "       'Total UL (Bytes)', 'Total DL (Bytes)', 'Session Frequency',\n",
       "       'Session Duration', 'Total Traffic'],\n",
       "      dtype='object')"
      ]
     },
     "execution_count": 9,
     "metadata": {},
     "output_type": "execute_result"
    }
   ],
   "source": [
    "data.columns"
   ]
  },
  {
   "cell_type": "code",
   "execution_count": 10,
   "id": "a572de2c",
   "metadata": {},
   "outputs": [],
   "source": [
    "# Aggregate the metrics per customer id (MSISDN) and report the top 10 customers per engagement metric\n",
    "aggregated_data = data.groupby('MSISDN/Number').agg({\n",
    "    'Session Frequency': 'sum',\n",
    "    'Session Duration': 'sum',\n",
    "    'Total Traffic': 'sum',})"
   ]
  },
  {
   "cell_type": "code",
   "execution_count": 11,
   "id": "61f858f4",
   "metadata": {},
   "outputs": [
    {
     "data": {
      "text/html": [
       "<div>\n",
       "<style scoped>\n",
       "    .dataframe tbody tr th:only-of-type {\n",
       "        vertical-align: middle;\n",
       "    }\n",
       "\n",
       "    .dataframe tbody tr th {\n",
       "        vertical-align: top;\n",
       "    }\n",
       "\n",
       "    .dataframe thead th {\n",
       "        text-align: right;\n",
       "    }\n",
       "</style>\n",
       "<table border=\"1\" class=\"dataframe\">\n",
       "  <thead>\n",
       "    <tr style=\"text-align: right;\">\n",
       "      <th></th>\n",
       "      <th>Session Frequency</th>\n",
       "      <th>Session Duration</th>\n",
       "      <th>Total Traffic</th>\n",
       "    </tr>\n",
       "    <tr>\n",
       "      <th>MSISDN/Number</th>\n",
       "      <th></th>\n",
       "      <th></th>\n",
       "      <th></th>\n",
       "    </tr>\n",
       "  </thead>\n",
       "  <tbody>\n",
       "    <tr>\n",
       "      <th>3.360100e+10</th>\n",
       "      <td>1.0</td>\n",
       "      <td>116720.0</td>\n",
       "      <td>8.786906e+08</td>\n",
       "    </tr>\n",
       "    <tr>\n",
       "      <th>3.360100e+10</th>\n",
       "      <td>1.0</td>\n",
       "      <td>181230.0</td>\n",
       "      <td>1.568596e+08</td>\n",
       "    </tr>\n",
       "    <tr>\n",
       "      <th>3.360100e+10</th>\n",
       "      <td>1.0</td>\n",
       "      <td>134969.0</td>\n",
       "      <td>5.959665e+08</td>\n",
       "    </tr>\n",
       "    <tr>\n",
       "      <th>3.360101e+10</th>\n",
       "      <td>1.0</td>\n",
       "      <td>49878.0</td>\n",
       "      <td>4.223207e+08</td>\n",
       "    </tr>\n",
       "    <tr>\n",
       "      <th>3.360101e+10</th>\n",
       "      <td>4.0</td>\n",
       "      <td>37104.0</td>\n",
       "      <td>1.457411e+09</td>\n",
       "    </tr>\n",
       "    <tr>\n",
       "      <th>...</th>\n",
       "      <td>...</td>\n",
       "      <td>...</td>\n",
       "      <td>...</td>\n",
       "    </tr>\n",
       "    <tr>\n",
       "      <th>3.379000e+10</th>\n",
       "      <td>1.0</td>\n",
       "      <td>8810.0</td>\n",
       "      <td>7.146416e+08</td>\n",
       "    </tr>\n",
       "    <tr>\n",
       "      <th>3.379000e+10</th>\n",
       "      <td>1.0</td>\n",
       "      <td>140988.0</td>\n",
       "      <td>4.803073e+08</td>\n",
       "    </tr>\n",
       "    <tr>\n",
       "      <th>3.197021e+12</th>\n",
       "      <td>1.0</td>\n",
       "      <td>877385.0</td>\n",
       "      <td>2.321240e+08</td>\n",
       "    </tr>\n",
       "    <tr>\n",
       "      <th>3.370000e+14</th>\n",
       "      <td>1.0</td>\n",
       "      <td>253030.0</td>\n",
       "      <td>5.962878e+08</td>\n",
       "    </tr>\n",
       "    <tr>\n",
       "      <th>8.823971e+14</th>\n",
       "      <td>1.0</td>\n",
       "      <td>869844.0</td>\n",
       "      <td>1.391536e+08</td>\n",
       "    </tr>\n",
       "  </tbody>\n",
       "</table>\n",
       "<p>106856 rows × 3 columns</p>\n",
       "</div>"
      ],
      "text/plain": [
       "               Session Frequency  Session Duration  Total Traffic\n",
       "MSISDN/Number                                                    \n",
       "3.360100e+10                 1.0          116720.0   8.786906e+08\n",
       "3.360100e+10                 1.0          181230.0   1.568596e+08\n",
       "3.360100e+10                 1.0          134969.0   5.959665e+08\n",
       "3.360101e+10                 1.0           49878.0   4.223207e+08\n",
       "3.360101e+10                 4.0           37104.0   1.457411e+09\n",
       "...                          ...               ...            ...\n",
       "3.379000e+10                 1.0            8810.0   7.146416e+08\n",
       "3.379000e+10                 1.0          140988.0   4.803073e+08\n",
       "3.197021e+12                 1.0          877385.0   2.321240e+08\n",
       "3.370000e+14                 1.0          253030.0   5.962878e+08\n",
       "8.823971e+14                 1.0          869844.0   1.391536e+08\n",
       "\n",
       "[106856 rows x 3 columns]"
      ]
     },
     "execution_count": 11,
     "metadata": {},
     "output_type": "execute_result"
    }
   ],
   "source": [
    "aggregated_data"
   ]
  },
  {
   "cell_type": "code",
   "execution_count": 12,
   "id": "debf9a21",
   "metadata": {
    "scrolled": true
   },
   "outputs": [
    {
     "data": {
      "image/png": "[encoded data removed]",
      "text/plain": [
       "<Figure size 500x500 with 1 Axes>"
      ]
     },
     "metadata": {},
     "output_type": "display_data"
    }
   ],
   "source": [
    "fig,ax = plt.subplots(nrows = 1,ncols = 1,figsize = (5,5))\n",
    "\n",
    "colors = ['#7789B2','#7789B2']\n",
    "plt.subplot(1,1,1)\n",
    "sns.heatmap(aggregated_data.describe().T[['mean']],\n",
    "            cmap = 'Greens',\n",
    "            annot = True,\n",
    "            fmt = '.2f',\n",
    "            linecolor = 'black',\n",
    "            linewidths = 0.4,\n",
    "            cbar = False);\n",
    "plt.title('Mean Values');\n",
    "\n",
    "fig.tight_layout(pad = 4)"
   ]
  },
  {
   "cell_type": "markdown",
   "id": "d22c68ef",
   "metadata": {},
   "source": [
    "#### Data Scaling"
   ]
  },
  {
   "cell_type": "code",
   "execution_count": 83,
   "id": "86aa09d0",
   "metadata": {},
   "outputs": [],
   "source": [
    "from sklearn.preprocessing import MinMaxScaler,StandardScaler\n",
    "mms = MinMaxScaler() # Normalization\n",
    "ss = StandardScaler() # Standardization\n",
    "from sklearn.cluster import KMeans\n",
    "kmeans=KMeans()"
   ]
  },
  {
   "cell_type": "code",
   "execution_count": 14,
   "id": "3a5aa886",
   "metadata": {},
   "outputs": [],
   "source": [
    "aggregated_data['Session Frequency']=mms.fit_transform(aggregated_data[['Session Frequency']])\n",
    "aggregated_data['Session Duration']=mms.fit_transform(aggregated_data[['Session Duration']])\n",
    "aggregated_data['Total Traffic']=mms.fit_transform(aggregated_data[['Total Traffic']])\n"
   ]
  },
  {
   "cell_type": "code",
   "execution_count": 15,
   "id": "bba6648b",
   "metadata": {
    "scrolled": true
   },
   "outputs": [
    {
     "data": {
      "image/png": "[encoded data removed]",
      "text/plain": [
       "<Figure size 2000x500 with 1 Axes>"
      ]
     },
     "metadata": {},
     "output_type": "display_data"
    }
   ],
   "source": [
    "sse = {};\n",
    "kmax = 10\n",
    "fig = plt.subplots(figsize = (20,5))\n",
    "\n",
    "# Elbow Method :\n",
    "for k in range(1, 10):\n",
    "    kmeans = KMeans(n_clusters=k, max_iter=1000).fit(aggregated_data)\n",
    "    sse[k] = kmeans.inertia_ # Inertia: Sum of distances of samples to their closest cluster center\n",
    "sns.lineplot(x = list(sse.keys()), y = list(sse.values()));\n",
    "plt.title('Elbow Method')\n",
    "plt.xlabel(\"k : Number of cluster\")\n",
    "plt.ylabel(\"Sum of Squared Error\")\n",
    "plt.grid()"
   ]
  },
  {
   "cell_type": "code",
   "execution_count": 16,
   "id": "e0bbea7b",
   "metadata": {},
   "outputs": [],
   "source": [
    "user_data = aggregated_data[['Session Frequency', 'Session Duration', 'Total Traffic']].values"
   ]
  },
  {
   "cell_type": "code",
   "execution_count": 17,
   "id": "c8233f88",
   "metadata": {},
   "outputs": [],
   "source": [
    "model = KMeans(n_clusters = 2,\n",
    "               max_iter = 1000)"
   ]
  },
  {
   "cell_type": "code",
   "execution_count": 18,
   "id": "b03a54a9",
   "metadata": {},
   "outputs": [
    {
     "data": {
      "text/plain": [
       "KMeans(max_iter=1000, n_clusters=2)"
      ]
     },
     "execution_count": 18,
     "metadata": {},
     "output_type": "execute_result"
    }
   ],
   "source": [
    "model.fit(user_data)"
   ]
  },
  {
   "cell_type": "code",
   "execution_count": 19,
   "id": "5e55b8ef",
   "metadata": {},
   "outputs": [],
   "source": [
    "# Finding the cluster centroids\n",
    "cluster = model.cluster_centers_"
   ]
  },
  {
   "cell_type": "code",
   "execution_count": 20,
   "id": "5a024946",
   "metadata": {},
   "outputs": [
    {
     "data": {
      "text/plain": [
       "array([[0.00149731, 0.00591895, 0.05700648],\n",
       "       [0.02481307, 0.01663128, 0.17671824]])"
      ]
     },
     "execution_count": 20,
     "metadata": {},
     "output_type": "execute_result"
    }
   ],
   "source": [
    "cluster"
   ]
  },
  {
   "cell_type": "code",
   "execution_count": 21,
   "id": "9d53b1bd",
   "metadata": {},
   "outputs": [
    {
     "data": {
      "text/plain": [
       "array([0, 0, 0, ..., 0, 0, 0])"
      ]
     },
     "execution_count": 21,
     "metadata": {},
     "output_type": "execute_result"
    }
   ],
   "source": [
    "labels = model.labels_\n",
    "labels"
   ]
  },
  {
   "cell_type": "code",
   "execution_count": 22,
   "id": "923c08d9",
   "metadata": {},
   "outputs": [],
   "source": [
    "centroids = np.array(cluster)"
   ]
  },
  {
   "cell_type": "code",
   "execution_count": 23,
   "id": "a1e68132",
   "metadata": {},
   "outputs": [
    {
     "data": {
      "text/plain": [
       "array([[0.00149731, 0.00591895, 0.05700648],\n",
       "       [0.02481307, 0.01663128, 0.17671824]])"
      ]
     },
     "execution_count": 23,
     "metadata": {},
     "output_type": "execute_result"
    }
   ],
   "source": [
    "centroids"
   ]
  },
  {
   "cell_type": "code",
   "execution_count": 24,
   "id": "a9991d1b",
   "metadata": {},
   "outputs": [
    {
     "data": {
      "text/html": [
       "<div>\n",
       "<style scoped>\n",
       "    .dataframe tbody tr th:only-of-type {\n",
       "        vertical-align: middle;\n",
       "    }\n",
       "\n",
       "    .dataframe tbody tr th {\n",
       "        vertical-align: top;\n",
       "    }\n",
       "\n",
       "    .dataframe thead th {\n",
       "        text-align: right;\n",
       "    }\n",
       "</style>\n",
       "<table border=\"1\" class=\"dataframe\">\n",
       "  <thead>\n",
       "    <tr style=\"text-align: right;\">\n",
       "      <th></th>\n",
       "      <th>Session Frequency</th>\n",
       "      <th>Session Duration</th>\n",
       "      <th>Total Traffic</th>\n",
       "      <th>Engagement Score</th>\n",
       "    </tr>\n",
       "    <tr>\n",
       "      <th>MSISDN/Number</th>\n",
       "      <th></th>\n",
       "      <th></th>\n",
       "      <th></th>\n",
       "      <th></th>\n",
       "    </tr>\n",
       "  </thead>\n",
       "  <tbody>\n",
       "    <tr>\n",
       "      <th>3.360100e+10</th>\n",
       "      <td>0.000000</td>\n",
       "      <td>0.005908</td>\n",
       "      <td>0.095931</td>\n",
       "      <td>0.023262</td>\n",
       "    </tr>\n",
       "    <tr>\n",
       "      <th>3.360100e+10</th>\n",
       "      <td>0.000000</td>\n",
       "      <td>0.009387</td>\n",
       "      <td>0.014026</td>\n",
       "      <td>0.025866</td>\n",
       "    </tr>\n",
       "    <tr>\n",
       "      <th>3.360100e+10</th>\n",
       "      <td>0.000000</td>\n",
       "      <td>0.006892</td>\n",
       "      <td>0.063851</td>\n",
       "      <td>0.003462</td>\n",
       "    </tr>\n",
       "    <tr>\n",
       "      <th>3.360101e+10</th>\n",
       "      <td>0.000000</td>\n",
       "      <td>0.002304</td>\n",
       "      <td>0.044148</td>\n",
       "      <td>0.007417</td>\n",
       "    </tr>\n",
       "    <tr>\n",
       "      <th>3.360101e+10</th>\n",
       "      <td>0.009288</td>\n",
       "      <td>0.001615</td>\n",
       "      <td>0.161598</td>\n",
       "      <td>0.064264</td>\n",
       "    </tr>\n",
       "    <tr>\n",
       "      <th>...</th>\n",
       "      <td>...</td>\n",
       "      <td>...</td>\n",
       "      <td>...</td>\n",
       "      <td>...</td>\n",
       "    </tr>\n",
       "    <tr>\n",
       "      <th>3.379000e+10</th>\n",
       "      <td>0.000000</td>\n",
       "      <td>0.000090</td>\n",
       "      <td>0.077317</td>\n",
       "      <td>0.012225</td>\n",
       "    </tr>\n",
       "    <tr>\n",
       "      <th>3.379000e+10</th>\n",
       "      <td>0.000000</td>\n",
       "      <td>0.007217</td>\n",
       "      <td>0.050727</td>\n",
       "      <td>0.003158</td>\n",
       "    </tr>\n",
       "    <tr>\n",
       "      <th>3.197021e+12</th>\n",
       "      <td>0.000000</td>\n",
       "      <td>0.046922</td>\n",
       "      <td>0.022566</td>\n",
       "      <td>0.032340</td>\n",
       "    </tr>\n",
       "    <tr>\n",
       "      <th>3.370000e+14</th>\n",
       "      <td>0.000000</td>\n",
       "      <td>0.013258</td>\n",
       "      <td>0.063887</td>\n",
       "      <td>0.005386</td>\n",
       "    </tr>\n",
       "    <tr>\n",
       "      <th>8.823971e+14</th>\n",
       "      <td>0.000000</td>\n",
       "      <td>0.046515</td>\n",
       "      <td>0.012017</td>\n",
       "      <td>0.036717</td>\n",
       "    </tr>\n",
       "  </tbody>\n",
       "</table>\n",
       "<p>106856 rows × 4 columns</p>\n",
       "</div>"
      ],
      "text/plain": [
       "               Session Frequency  Session Duration  Total Traffic  \\\n",
       "MSISDN/Number                                                       \n",
       "3.360100e+10            0.000000          0.005908       0.095931   \n",
       "3.360100e+10            0.000000          0.009387       0.014026   \n",
       "3.360100e+10            0.000000          0.006892       0.063851   \n",
       "3.360101e+10            0.000000          0.002304       0.044148   \n",
       "3.360101e+10            0.009288          0.001615       0.161598   \n",
       "...                          ...               ...            ...   \n",
       "3.379000e+10            0.000000          0.000090       0.077317   \n",
       "3.379000e+10            0.000000          0.007217       0.050727   \n",
       "3.197021e+12            0.000000          0.046922       0.022566   \n",
       "3.370000e+14            0.000000          0.013258       0.063887   \n",
       "8.823971e+14            0.000000          0.046515       0.012017   \n",
       "\n",
       "               Engagement Score  \n",
       "MSISDN/Number                    \n",
       "3.360100e+10           0.023262  \n",
       "3.360100e+10           0.025866  \n",
       "3.360100e+10           0.003462  \n",
       "3.360101e+10           0.007417  \n",
       "3.360101e+10           0.064264  \n",
       "...                         ...  \n",
       "3.379000e+10           0.012225  \n",
       "3.379000e+10           0.003158  \n",
       "3.197021e+12           0.032340  \n",
       "3.370000e+14           0.005386  \n",
       "8.823971e+14           0.036717  \n",
       "\n",
       "[106856 rows x 4 columns]"
      ]
     },
     "execution_count": 24,
     "metadata": {},
     "output_type": "execute_result"
    }
   ],
   "source": [
    "\n",
    "from sklearn.metrics.pairwise import euclidean_distances\n",
    "\n",
    "\n",
    "\n",
    "\n",
    "\n",
    "distances = euclidean_distances(user_data, centroids)\n",
    "\n",
    "less_engaged_cluster_index = 0\n",
    "\n",
    "engagement_scores = distances[:, less_engaged_cluster_index]\n",
    "\n",
    "mms = MinMaxScaler()\n",
    "engagement_scores = mms.fit_transform(engagement_scores.reshape(-1, 1))\n",
    "\n",
    "aggregated_data['Engagement Score'] = engagement_scores\n",
    "\n",
    "\n",
    "aggregated_data"
   ]
  },
  {
   "cell_type": "markdown",
   "id": "d5dcf202",
   "metadata": {},
   "source": [
    "#### Experience score for each user. Consider the experience score as the Euclidean distance between the user data point & the worst experience cluster. "
   ]
  },
  {
   "cell_type": "markdown",
   "id": "cf9a955a",
   "metadata": {},
   "source": [
    "#  Experience  analysis"
   ]
  },
  {
   "cell_type": "code",
   "execution_count": 25,
   "id": "77c1e49a",
   "metadata": {},
   "outputs": [],
   "source": [
    "# Calculate average TCP retransmission\n",
    "avg_tcp_retransmission = data.groupby('MSISDN/Number')[['TCP DL Retrans. Vol (Bytes)', 'TCP UL Retrans. Vol (Bytes)']].mean().mean(axis=1)\n",
    "avg_tcp_retransmission.fillna(avg_tcp_retransmission.mean(), inplace=True)"
   ]
  },
  {
   "cell_type": "code",
   "execution_count": 26,
   "id": "f17a4109",
   "metadata": {},
   "outputs": [],
   "source": [
    "# Calculate average RTT\n",
    "avg_rtt = data.groupby('MSISDN/Number')[['Avg RTT DL (ms)', 'Avg RTT UL (ms)']].mean().mean(axis=1)\n",
    "avg_rtt.fillna(avg_rtt.mean(), inplace=True)"
   ]
  },
  {
   "cell_type": "code",
   "execution_count": 27,
   "id": "fed6673c",
   "metadata": {},
   "outputs": [],
   "source": [
    "# Calculate average throughput\n",
    "avg_throughput = data.groupby('MSISDN/Number')[['Avg Bearer TP DL (kbps)', 'Avg Bearer TP UL (kbps)']].mean().mean(axis=1)\n",
    "avg_throughput.fillna(avg_throughput.mean(), inplace=True)"
   ]
  },
  {
   "cell_type": "code",
   "execution_count": 28,
   "id": "4220c2d6",
   "metadata": {},
   "outputs": [],
   "source": [
    "handset_mode = data.groupby('MSISDN/Number')['Handset Type'].agg(lambda x: x.mode().values[0] if len(x.mode()) > 0 else None)\n"
   ]
  },
  {
   "cell_type": "code",
   "execution_count": 29,
   "id": "0589c674",
   "metadata": {},
   "outputs": [
    {
     "data": {
      "text/html": [
       "<div>\n",
       "<style scoped>\n",
       "    .dataframe tbody tr th:only-of-type {\n",
       "        vertical-align: middle;\n",
       "    }\n",
       "\n",
       "    .dataframe tbody tr th {\n",
       "        vertical-align: top;\n",
       "    }\n",
       "\n",
       "    .dataframe thead th {\n",
       "        text-align: right;\n",
       "    }\n",
       "</style>\n",
       "<table border=\"1\" class=\"dataframe\">\n",
       "  <thead>\n",
       "    <tr style=\"text-align: right;\">\n",
       "      <th></th>\n",
       "      <th>MSISDN/Number</th>\n",
       "      <th>Avg_TCP_Retransmission</th>\n",
       "      <th>Avg_RTT</th>\n",
       "      <th>Handset_Type</th>\n",
       "      <th>Avg_Throughput</th>\n",
       "    </tr>\n",
       "  </thead>\n",
       "  <tbody>\n",
       "    <tr>\n",
       "      <th>0</th>\n",
       "      <td>3.360100e+10</td>\n",
       "      <td>8.463363e+06</td>\n",
       "      <td>23.000000</td>\n",
       "      <td>Huawei P20 Lite Huawei Nova 3E</td>\n",
       "      <td>38.0</td>\n",
       "    </tr>\n",
       "    <tr>\n",
       "      <th>1</th>\n",
       "      <td>3.360100e+10</td>\n",
       "      <td>8.463363e+06</td>\n",
       "      <td>15.500000</td>\n",
       "      <td>Apple iPhone 7 (A1778)</td>\n",
       "      <td>49.5</td>\n",
       "    </tr>\n",
       "    <tr>\n",
       "      <th>2</th>\n",
       "      <td>3.360100e+10</td>\n",
       "      <td>8.463363e+06</td>\n",
       "      <td>68.269961</td>\n",
       "      <td>undefined</td>\n",
       "      <td>48.5</td>\n",
       "    </tr>\n",
       "    <tr>\n",
       "      <th>3</th>\n",
       "      <td>3.360101e+10</td>\n",
       "      <td>1.066000e+03</td>\n",
       "      <td>42.000000</td>\n",
       "      <td>Apple iPhone 5S (A1457)</td>\n",
       "      <td>124.0</td>\n",
       "    </tr>\n",
       "    <tr>\n",
       "      <th>4</th>\n",
       "      <td>3.360101e+10</td>\n",
       "      <td>4.685416e+06</td>\n",
       "      <td>29.750000</td>\n",
       "      <td>Apple iPhone Se (A1723)</td>\n",
       "      <td>14211.0</td>\n",
       "    </tr>\n",
       "    <tr>\n",
       "      <th>...</th>\n",
       "      <td>...</td>\n",
       "      <td>...</td>\n",
       "      <td>...</td>\n",
       "      <td>...</td>\n",
       "      <td>...</td>\n",
       "    </tr>\n",
       "    <tr>\n",
       "      <th>106851</th>\n",
       "      <td>3.379000e+10</td>\n",
       "      <td>1.090225e+05</td>\n",
       "      <td>26.000000</td>\n",
       "      <td>Huawei Honor 9 Lite</td>\n",
       "      <td>5182.5</td>\n",
       "    </tr>\n",
       "    <tr>\n",
       "      <th>106852</th>\n",
       "      <td>3.379000e+10</td>\n",
       "      <td>8.463363e+06</td>\n",
       "      <td>20.000000</td>\n",
       "      <td>Apple iPhone 8 Plus (A1897)</td>\n",
       "      <td>58.0</td>\n",
       "    </tr>\n",
       "    <tr>\n",
       "      <th>106853</th>\n",
       "      <td>3.197021e+12</td>\n",
       "      <td>8.463363e+06</td>\n",
       "      <td>68.269961</td>\n",
       "      <td>Quectel Wireless. Quectel Ec25-E</td>\n",
       "      <td>0.5</td>\n",
       "    </tr>\n",
       "    <tr>\n",
       "      <th>106854</th>\n",
       "      <td>3.370000e+14</td>\n",
       "      <td>8.463363e+06</td>\n",
       "      <td>68.269961</td>\n",
       "      <td>Huawei B525S-23A</td>\n",
       "      <td>16.5</td>\n",
       "    </tr>\n",
       "    <tr>\n",
       "      <th>106855</th>\n",
       "      <td>8.823971e+14</td>\n",
       "      <td>8.463363e+06</td>\n",
       "      <td>68.269961</td>\n",
       "      <td>Quectel Wireless. Quectel Ec21-E</td>\n",
       "      <td>1.0</td>\n",
       "    </tr>\n",
       "  </tbody>\n",
       "</table>\n",
       "<p>106856 rows × 5 columns</p>\n",
       "</div>"
      ],
      "text/plain": [
       "        MSISDN/Number  Avg_TCP_Retransmission    Avg_RTT  \\\n",
       "0        3.360100e+10            8.463363e+06  23.000000   \n",
       "1        3.360100e+10            8.463363e+06  15.500000   \n",
       "2        3.360100e+10            8.463363e+06  68.269961   \n",
       "3        3.360101e+10            1.066000e+03  42.000000   \n",
       "4        3.360101e+10            4.685416e+06  29.750000   \n",
       "...               ...                     ...        ...   \n",
       "106851   3.379000e+10            1.090225e+05  26.000000   \n",
       "106852   3.379000e+10            8.463363e+06  20.000000   \n",
       "106853   3.197021e+12            8.463363e+06  68.269961   \n",
       "106854   3.370000e+14            8.463363e+06  68.269961   \n",
       "106855   8.823971e+14            8.463363e+06  68.269961   \n",
       "\n",
       "                            Handset_Type  Avg_Throughput  \n",
       "0         Huawei P20 Lite Huawei Nova 3E            38.0  \n",
       "1                 Apple iPhone 7 (A1778)            49.5  \n",
       "2                              undefined            48.5  \n",
       "3                Apple iPhone 5S (A1457)           124.0  \n",
       "4                Apple iPhone Se (A1723)         14211.0  \n",
       "...                                  ...             ...  \n",
       "106851               Huawei Honor 9 Lite          5182.5  \n",
       "106852       Apple iPhone 8 Plus (A1897)            58.0  \n",
       "106853  Quectel Wireless. Quectel Ec25-E             0.5  \n",
       "106854                  Huawei B525S-23A            16.5  \n",
       "106855  Quectel Wireless. Quectel Ec21-E             1.0  \n",
       "\n",
       "[106856 rows x 5 columns]"
      ]
     },
     "execution_count": 29,
     "metadata": {},
     "output_type": "execute_result"
    }
   ],
   "source": [
    "# Create a new DataFrame with aggregated information\n",
    "aggregated_data1 = pd.DataFrame({\n",
    "    'Avg_TCP_Retransmission': avg_tcp_retransmission,\n",
    "    'Avg_RTT': avg_rtt,\n",
    "    'Handset_Type': handset_mode,\n",
    "    'Avg_Throughput': avg_throughput\n",
    "})\n",
    "\n",
    "# Reset the index to make 'MSISDN/Number' a column instead of the index\n",
    "aggregated_data1.reset_index(inplace=True)\n",
    "\n",
    "# Display the aggregated data\n",
    "aggregated_data1"
   ]
  },
  {
   "cell_type": "markdown",
   "id": "3d1f2a83",
   "metadata": {},
   "source": [
    "#### Data Scaling"
   ]
  },
  {
   "cell_type": "code",
   "execution_count": 30,
   "id": "09187421",
   "metadata": {},
   "outputs": [],
   "source": [
    "aggregated_data1['Avg_TCP_Retransmission']=mms.fit_transform(aggregated_data1[['Avg_TCP_Retransmission']])\n",
    "aggregated_data1['Avg_RTT']=mms.fit_transform(aggregated_data1[['Avg_RTT']])\n",
    "aggregated_data1['Avg_Throughput']=mms.fit_transform(aggregated_data1[['Avg_Throughput']])\n"
   ]
  },
  {
   "cell_type": "code",
   "execution_count": 31,
   "id": "c2c82cca",
   "metadata": {},
   "outputs": [],
   "source": [
    "\n",
    "user_data = aggregated_data1[['Avg_TCP_Retransmission', 'Avg_RTT', 'Avg_Throughput']].values\n",
    "\n"
   ]
  },
  {
   "cell_type": "code",
   "execution_count": 32,
   "id": "ecfcd5cd",
   "metadata": {},
   "outputs": [
    {
     "data": {
      "image/png": "[encoded data removed]",
      "text/plain": [
       "<Figure size 2000x500 with 1 Axes>"
      ]
     },
     "metadata": {},
     "output_type": "display_data"
    }
   ],
   "source": [
    "sse = {};\n",
    "kmax = 10\n",
    "fig = plt.subplots(figsize = (20,5))\n",
    "\n",
    "# Elbow Method :\n",
    "for k in range(1, 10):\n",
    "    kmeans = KMeans(n_clusters=k, max_iter=1000).fit(user_data)\n",
    "    sse[k] = kmeans.inertia_ # Inertia: Sum of distances of samples to their closest cluster center\n",
    "sns.lineplot(x = list(sse.keys()), y = list(sse.values()));\n",
    "plt.title('Elbow Method')\n",
    "plt.xlabel(\"k : Number of cluster\")\n",
    "plt.ylabel(\"Sum of Squared Error\")\n",
    "plt.grid()"
   ]
  },
  {
   "cell_type": "code",
   "execution_count": 33,
   "id": "d793c95c",
   "metadata": {},
   "outputs": [],
   "source": [
    "from sklearn.cluster import KMeans\n"
   ]
  },
  {
   "cell_type": "code",
   "execution_count": 34,
   "id": "73232fc1",
   "metadata": {},
   "outputs": [],
   "source": [
    "model = KMeans(n_clusters = 2,\n",
    "               max_iter = 1000)"
   ]
  },
  {
   "cell_type": "code",
   "execution_count": 35,
   "id": "0ae5871e",
   "metadata": {},
   "outputs": [
    {
     "data": {
      "text/plain": [
       "KMeans(max_iter=1000, n_clusters=2)"
      ]
     },
     "execution_count": 35,
     "metadata": {},
     "output_type": "execute_result"
    }
   ],
   "source": [
    "model.fit(user_data)"
   ]
  },
  {
   "cell_type": "code",
   "execution_count": 36,
   "id": "3343ea98",
   "metadata": {},
   "outputs": [],
   "source": [
    "# Finding the cluster centroids\n",
    "cluster = model.cluster_centers_"
   ]
  },
  {
   "cell_type": "code",
   "execution_count": 37,
   "id": "491b6d73",
   "metadata": {},
   "outputs": [
    {
     "data": {
      "text/plain": [
       "array([[0.00199869, 0.00148146, 0.01526447],\n",
       "       [0.00619806, 0.00106128, 0.19471396]])"
      ]
     },
     "execution_count": 37,
     "metadata": {},
     "output_type": "execute_result"
    }
   ],
   "source": [
    "cluster"
   ]
  },
  {
   "cell_type": "code",
   "execution_count": 38,
   "id": "b1bbaeff",
   "metadata": {},
   "outputs": [
    {
     "data": {
      "text/plain": [
       "array([0, 0, 0, ..., 0, 0, 0])"
      ]
     },
     "execution_count": 38,
     "metadata": {},
     "output_type": "execute_result"
    }
   ],
   "source": [
    "labels = model.labels_\n",
    "labels"
   ]
  },
  {
   "cell_type": "code",
   "execution_count": 39,
   "id": "1d4b7f24",
   "metadata": {},
   "outputs": [],
   "source": [
    "centroids= np.array(cluster)"
   ]
  },
  {
   "cell_type": "code",
   "execution_count": 40,
   "id": "4fca0239",
   "metadata": {},
   "outputs": [
    {
     "data": {
      "text/plain": [
       "array([[0.00199869, 0.00148146, 0.01526447],\n",
       "       [0.00619806, 0.00106128, 0.19471396]])"
      ]
     },
     "execution_count": 40,
     "metadata": {},
     "output_type": "execute_result"
    }
   ],
   "source": [
    "centroids"
   ]
  },
  {
   "cell_type": "code",
   "execution_count": 41,
   "id": "958c698f",
   "metadata": {},
   "outputs": [
    {
     "data": {
      "text/html": [
       "<div>\n",
       "<style scoped>\n",
       "    .dataframe tbody tr th:only-of-type {\n",
       "        vertical-align: middle;\n",
       "    }\n",
       "\n",
       "    .dataframe tbody tr th {\n",
       "        vertical-align: top;\n",
       "    }\n",
       "\n",
       "    .dataframe thead th {\n",
       "        text-align: right;\n",
       "    }\n",
       "</style>\n",
       "<table border=\"1\" class=\"dataframe\">\n",
       "  <thead>\n",
       "    <tr style=\"text-align: right;\">\n",
       "      <th></th>\n",
       "      <th>MSISDN/Number</th>\n",
       "      <th>Avg_TCP_Retransmission</th>\n",
       "      <th>Avg_RTT</th>\n",
       "      <th>Handset_Type</th>\n",
       "      <th>Avg_Throughput</th>\n",
       "      <th>Experience Score</th>\n",
       "    </tr>\n",
       "  </thead>\n",
       "  <tbody>\n",
       "    <tr>\n",
       "      <th>0</th>\n",
       "      <td>3.360100e+10</td>\n",
       "      <td>2.725529e-03</td>\n",
       "      <td>0.000475</td>\n",
       "      <td>Huawei P20 Lite Huawei Nova 3E</td>\n",
       "      <td>0.000268</td>\n",
       "      <td>0.190525</td>\n",
       "    </tr>\n",
       "    <tr>\n",
       "      <th>1</th>\n",
       "      <td>3.360100e+10</td>\n",
       "      <td>2.725529e-03</td>\n",
       "      <td>0.000320</td>\n",
       "      <td>Apple iPhone 7 (A1778)</td>\n",
       "      <td>0.000349</td>\n",
       "      <td>0.190446</td>\n",
       "    </tr>\n",
       "    <tr>\n",
       "      <th>2</th>\n",
       "      <td>3.360100e+10</td>\n",
       "      <td>2.725529e-03</td>\n",
       "      <td>0.001409</td>\n",
       "      <td>undefined</td>\n",
       "      <td>0.000342</td>\n",
       "      <td>0.190452</td>\n",
       "    </tr>\n",
       "    <tr>\n",
       "      <th>3</th>\n",
       "      <td>3.360101e+10</td>\n",
       "      <td>3.426491e-07</td>\n",
       "      <td>0.000867</td>\n",
       "      <td>Apple iPhone 5S (A1457)</td>\n",
       "      <td>0.000873</td>\n",
       "      <td>0.189996</td>\n",
       "    </tr>\n",
       "    <tr>\n",
       "      <th>4</th>\n",
       "      <td>3.360101e+10</td>\n",
       "      <td>1.508884e-03</td>\n",
       "      <td>0.000614</td>\n",
       "      <td>Apple iPhone Se (A1723)</td>\n",
       "      <td>0.100102</td>\n",
       "      <td>0.092447</td>\n",
       "    </tr>\n",
       "    <tr>\n",
       "      <th>...</th>\n",
       "      <td>...</td>\n",
       "      <td>...</td>\n",
       "      <td>...</td>\n",
       "      <td>...</td>\n",
       "      <td>...</td>\n",
       "      <td>...</td>\n",
       "    </tr>\n",
       "    <tr>\n",
       "      <th>106851</th>\n",
       "      <td>3.379000e+10</td>\n",
       "      <td>3.510881e-05</td>\n",
       "      <td>0.000537</td>\n",
       "      <td>Huawei Honor 9 Lite</td>\n",
       "      <td>0.036505</td>\n",
       "      <td>0.154982</td>\n",
       "    </tr>\n",
       "    <tr>\n",
       "      <th>106852</th>\n",
       "      <td>3.379000e+10</td>\n",
       "      <td>2.725529e-03</td>\n",
       "      <td>0.000413</td>\n",
       "      <td>Apple iPhone 8 Plus (A1897)</td>\n",
       "      <td>0.000409</td>\n",
       "      <td>0.190387</td>\n",
       "    </tr>\n",
       "    <tr>\n",
       "      <th>106853</th>\n",
       "      <td>3.197021e+12</td>\n",
       "      <td>2.725529e-03</td>\n",
       "      <td>0.001409</td>\n",
       "      <td>Quectel Wireless. Quectel Ec25-E</td>\n",
       "      <td>0.000004</td>\n",
       "      <td>0.190784</td>\n",
       "    </tr>\n",
       "    <tr>\n",
       "      <th>106854</th>\n",
       "      <td>3.370000e+14</td>\n",
       "      <td>2.725529e-03</td>\n",
       "      <td>0.001409</td>\n",
       "      <td>Huawei B525S-23A</td>\n",
       "      <td>0.000116</td>\n",
       "      <td>0.190673</td>\n",
       "    </tr>\n",
       "    <tr>\n",
       "      <th>106855</th>\n",
       "      <td>8.823971e+14</td>\n",
       "      <td>2.725529e-03</td>\n",
       "      <td>0.001409</td>\n",
       "      <td>Quectel Wireless. Quectel Ec21-E</td>\n",
       "      <td>0.000007</td>\n",
       "      <td>0.190781</td>\n",
       "    </tr>\n",
       "  </tbody>\n",
       "</table>\n",
       "<p>106856 rows × 6 columns</p>\n",
       "</div>"
      ],
      "text/plain": [
       "        MSISDN/Number  Avg_TCP_Retransmission   Avg_RTT  \\\n",
       "0        3.360100e+10            2.725529e-03  0.000475   \n",
       "1        3.360100e+10            2.725529e-03  0.000320   \n",
       "2        3.360100e+10            2.725529e-03  0.001409   \n",
       "3        3.360101e+10            3.426491e-07  0.000867   \n",
       "4        3.360101e+10            1.508884e-03  0.000614   \n",
       "...               ...                     ...       ...   \n",
       "106851   3.379000e+10            3.510881e-05  0.000537   \n",
       "106852   3.379000e+10            2.725529e-03  0.000413   \n",
       "106853   3.197021e+12            2.725529e-03  0.001409   \n",
       "106854   3.370000e+14            2.725529e-03  0.001409   \n",
       "106855   8.823971e+14            2.725529e-03  0.001409   \n",
       "\n",
       "                            Handset_Type  Avg_Throughput  Experience Score  \n",
       "0         Huawei P20 Lite Huawei Nova 3E        0.000268          0.190525  \n",
       "1                 Apple iPhone 7 (A1778)        0.000349          0.190446  \n",
       "2                              undefined        0.000342          0.190452  \n",
       "3                Apple iPhone 5S (A1457)        0.000873          0.189996  \n",
       "4                Apple iPhone Se (A1723)        0.100102          0.092447  \n",
       "...                                  ...             ...               ...  \n",
       "106851               Huawei Honor 9 Lite        0.036505          0.154982  \n",
       "106852       Apple iPhone 8 Plus (A1897)        0.000409          0.190387  \n",
       "106853  Quectel Wireless. Quectel Ec25-E        0.000004          0.190784  \n",
       "106854                  Huawei B525S-23A        0.000116          0.190673  \n",
       "106855  Quectel Wireless. Quectel Ec21-E        0.000007          0.190781  \n",
       "\n",
       "[106856 rows x 6 columns]"
      ]
     },
     "execution_count": 41,
     "metadata": {},
     "output_type": "execute_result"
    }
   ],
   "source": [
    "cluster_centroids = centroids\n",
    "\n",
    "distances = euclidean_distances(user_data, cluster_centroids)\n",
    "\n",
    "worst_experience_cluster_index = cluster_centroids.shape[0] - 1\n",
    "\n",
    "experience_scores = distances[:, worst_experience_cluster_index]\n",
    "\n",
    "mms = MinMaxScaler()\n",
    "experience_scores = mms.fit_transform(experience_scores.reshape(-1, 1))\n",
    "\n",
    "aggregated_data1['Experience Score'] = experience_scores\n",
    "\n",
    "aggregated_data1"
   ]
  },
  {
   "cell_type": "code",
   "execution_count": 42,
   "id": "95874e32",
   "metadata": {},
   "outputs": [
    {
     "data": {
      "text/html": [
       "<div>\n",
       "<style scoped>\n",
       "    .dataframe tbody tr th:only-of-type {\n",
       "        vertical-align: middle;\n",
       "    }\n",
       "\n",
       "    .dataframe tbody tr th {\n",
       "        vertical-align: top;\n",
       "    }\n",
       "\n",
       "    .dataframe thead th {\n",
       "        text-align: right;\n",
       "    }\n",
       "</style>\n",
       "<table border=\"1\" class=\"dataframe\">\n",
       "  <thead>\n",
       "    <tr style=\"text-align: right;\">\n",
       "      <th></th>\n",
       "      <th>Session Frequency</th>\n",
       "      <th>Session Duration</th>\n",
       "      <th>Total Traffic</th>\n",
       "      <th>Engagement Score</th>\n",
       "    </tr>\n",
       "    <tr>\n",
       "      <th>MSISDN/Number</th>\n",
       "      <th></th>\n",
       "      <th></th>\n",
       "      <th></th>\n",
       "      <th></th>\n",
       "    </tr>\n",
       "  </thead>\n",
       "  <tbody>\n",
       "    <tr>\n",
       "      <th>3.360100e+10</th>\n",
       "      <td>0.000000</td>\n",
       "      <td>0.005908</td>\n",
       "      <td>0.095931</td>\n",
       "      <td>0.023262</td>\n",
       "    </tr>\n",
       "    <tr>\n",
       "      <th>3.360100e+10</th>\n",
       "      <td>0.000000</td>\n",
       "      <td>0.009387</td>\n",
       "      <td>0.014026</td>\n",
       "      <td>0.025866</td>\n",
       "    </tr>\n",
       "    <tr>\n",
       "      <th>3.360100e+10</th>\n",
       "      <td>0.000000</td>\n",
       "      <td>0.006892</td>\n",
       "      <td>0.063851</td>\n",
       "      <td>0.003462</td>\n",
       "    </tr>\n",
       "    <tr>\n",
       "      <th>3.360101e+10</th>\n",
       "      <td>0.000000</td>\n",
       "      <td>0.002304</td>\n",
       "      <td>0.044148</td>\n",
       "      <td>0.007417</td>\n",
       "    </tr>\n",
       "    <tr>\n",
       "      <th>3.360101e+10</th>\n",
       "      <td>0.009288</td>\n",
       "      <td>0.001615</td>\n",
       "      <td>0.161598</td>\n",
       "      <td>0.064264</td>\n",
       "    </tr>\n",
       "    <tr>\n",
       "      <th>...</th>\n",
       "      <td>...</td>\n",
       "      <td>...</td>\n",
       "      <td>...</td>\n",
       "      <td>...</td>\n",
       "    </tr>\n",
       "    <tr>\n",
       "      <th>3.379000e+10</th>\n",
       "      <td>0.000000</td>\n",
       "      <td>0.000090</td>\n",
       "      <td>0.077317</td>\n",
       "      <td>0.012225</td>\n",
       "    </tr>\n",
       "    <tr>\n",
       "      <th>3.379000e+10</th>\n",
       "      <td>0.000000</td>\n",
       "      <td>0.007217</td>\n",
       "      <td>0.050727</td>\n",
       "      <td>0.003158</td>\n",
       "    </tr>\n",
       "    <tr>\n",
       "      <th>3.197021e+12</th>\n",
       "      <td>0.000000</td>\n",
       "      <td>0.046922</td>\n",
       "      <td>0.022566</td>\n",
       "      <td>0.032340</td>\n",
       "    </tr>\n",
       "    <tr>\n",
       "      <th>3.370000e+14</th>\n",
       "      <td>0.000000</td>\n",
       "      <td>0.013258</td>\n",
       "      <td>0.063887</td>\n",
       "      <td>0.005386</td>\n",
       "    </tr>\n",
       "    <tr>\n",
       "      <th>8.823971e+14</th>\n",
       "      <td>0.000000</td>\n",
       "      <td>0.046515</td>\n",
       "      <td>0.012017</td>\n",
       "      <td>0.036717</td>\n",
       "    </tr>\n",
       "  </tbody>\n",
       "</table>\n",
       "<p>106856 rows × 4 columns</p>\n",
       "</div>"
      ],
      "text/plain": [
       "               Session Frequency  Session Duration  Total Traffic  \\\n",
       "MSISDN/Number                                                       \n",
       "3.360100e+10            0.000000          0.005908       0.095931   \n",
       "3.360100e+10            0.000000          0.009387       0.014026   \n",
       "3.360100e+10            0.000000          0.006892       0.063851   \n",
       "3.360101e+10            0.000000          0.002304       0.044148   \n",
       "3.360101e+10            0.009288          0.001615       0.161598   \n",
       "...                          ...               ...            ...   \n",
       "3.379000e+10            0.000000          0.000090       0.077317   \n",
       "3.379000e+10            0.000000          0.007217       0.050727   \n",
       "3.197021e+12            0.000000          0.046922       0.022566   \n",
       "3.370000e+14            0.000000          0.013258       0.063887   \n",
       "8.823971e+14            0.000000          0.046515       0.012017   \n",
       "\n",
       "               Engagement Score  \n",
       "MSISDN/Number                    \n",
       "3.360100e+10           0.023262  \n",
       "3.360100e+10           0.025866  \n",
       "3.360100e+10           0.003462  \n",
       "3.360101e+10           0.007417  \n",
       "3.360101e+10           0.064264  \n",
       "...                         ...  \n",
       "3.379000e+10           0.012225  \n",
       "3.379000e+10           0.003158  \n",
       "3.197021e+12           0.032340  \n",
       "3.370000e+14           0.005386  \n",
       "8.823971e+14           0.036717  \n",
       "\n",
       "[106856 rows x 4 columns]"
      ]
     },
     "execution_count": 42,
     "metadata": {},
     "output_type": "execute_result"
    }
   ],
   "source": [
    "aggregated_data"
   ]
  },
  {
   "cell_type": "code",
   "execution_count": 43,
   "id": "88e2bdde",
   "metadata": {
    "scrolled": true
   },
   "outputs": [
    {
     "data": {
      "text/html": [
       "<div>\n",
       "<style scoped>\n",
       "    .dataframe tbody tr th:only-of-type {\n",
       "        vertical-align: middle;\n",
       "    }\n",
       "\n",
       "    .dataframe tbody tr th {\n",
       "        vertical-align: top;\n",
       "    }\n",
       "\n",
       "    .dataframe thead th {\n",
       "        text-align: right;\n",
       "    }\n",
       "</style>\n",
       "<table border=\"1\" class=\"dataframe\">\n",
       "  <thead>\n",
       "    <tr style=\"text-align: right;\">\n",
       "      <th></th>\n",
       "      <th>MSISDN/Number</th>\n",
       "      <th>Avg_TCP_Retransmission</th>\n",
       "      <th>Avg_RTT</th>\n",
       "      <th>Handset_Type</th>\n",
       "      <th>Avg_Throughput</th>\n",
       "      <th>Experience Score</th>\n",
       "    </tr>\n",
       "  </thead>\n",
       "  <tbody>\n",
       "    <tr>\n",
       "      <th>0</th>\n",
       "      <td>3.360100e+10</td>\n",
       "      <td>2.725529e-03</td>\n",
       "      <td>0.000475</td>\n",
       "      <td>Huawei P20 Lite Huawei Nova 3E</td>\n",
       "      <td>0.000268</td>\n",
       "      <td>0.190525</td>\n",
       "    </tr>\n",
       "    <tr>\n",
       "      <th>1</th>\n",
       "      <td>3.360100e+10</td>\n",
       "      <td>2.725529e-03</td>\n",
       "      <td>0.000320</td>\n",
       "      <td>Apple iPhone 7 (A1778)</td>\n",
       "      <td>0.000349</td>\n",
       "      <td>0.190446</td>\n",
       "    </tr>\n",
       "    <tr>\n",
       "      <th>2</th>\n",
       "      <td>3.360100e+10</td>\n",
       "      <td>2.725529e-03</td>\n",
       "      <td>0.001409</td>\n",
       "      <td>undefined</td>\n",
       "      <td>0.000342</td>\n",
       "      <td>0.190452</td>\n",
       "    </tr>\n",
       "    <tr>\n",
       "      <th>3</th>\n",
       "      <td>3.360101e+10</td>\n",
       "      <td>3.426491e-07</td>\n",
       "      <td>0.000867</td>\n",
       "      <td>Apple iPhone 5S (A1457)</td>\n",
       "      <td>0.000873</td>\n",
       "      <td>0.189996</td>\n",
       "    </tr>\n",
       "    <tr>\n",
       "      <th>4</th>\n",
       "      <td>3.360101e+10</td>\n",
       "      <td>1.508884e-03</td>\n",
       "      <td>0.000614</td>\n",
       "      <td>Apple iPhone Se (A1723)</td>\n",
       "      <td>0.100102</td>\n",
       "      <td>0.092447</td>\n",
       "    </tr>\n",
       "    <tr>\n",
       "      <th>...</th>\n",
       "      <td>...</td>\n",
       "      <td>...</td>\n",
       "      <td>...</td>\n",
       "      <td>...</td>\n",
       "      <td>...</td>\n",
       "      <td>...</td>\n",
       "    </tr>\n",
       "    <tr>\n",
       "      <th>106851</th>\n",
       "      <td>3.379000e+10</td>\n",
       "      <td>3.510881e-05</td>\n",
       "      <td>0.000537</td>\n",
       "      <td>Huawei Honor 9 Lite</td>\n",
       "      <td>0.036505</td>\n",
       "      <td>0.154982</td>\n",
       "    </tr>\n",
       "    <tr>\n",
       "      <th>106852</th>\n",
       "      <td>3.379000e+10</td>\n",
       "      <td>2.725529e-03</td>\n",
       "      <td>0.000413</td>\n",
       "      <td>Apple iPhone 8 Plus (A1897)</td>\n",
       "      <td>0.000409</td>\n",
       "      <td>0.190387</td>\n",
       "    </tr>\n",
       "    <tr>\n",
       "      <th>106853</th>\n",
       "      <td>3.197021e+12</td>\n",
       "      <td>2.725529e-03</td>\n",
       "      <td>0.001409</td>\n",
       "      <td>Quectel Wireless. Quectel Ec25-E</td>\n",
       "      <td>0.000004</td>\n",
       "      <td>0.190784</td>\n",
       "    </tr>\n",
       "    <tr>\n",
       "      <th>106854</th>\n",
       "      <td>3.370000e+14</td>\n",
       "      <td>2.725529e-03</td>\n",
       "      <td>0.001409</td>\n",
       "      <td>Huawei B525S-23A</td>\n",
       "      <td>0.000116</td>\n",
       "      <td>0.190673</td>\n",
       "    </tr>\n",
       "    <tr>\n",
       "      <th>106855</th>\n",
       "      <td>8.823971e+14</td>\n",
       "      <td>2.725529e-03</td>\n",
       "      <td>0.001409</td>\n",
       "      <td>Quectel Wireless. Quectel Ec21-E</td>\n",
       "      <td>0.000007</td>\n",
       "      <td>0.190781</td>\n",
       "    </tr>\n",
       "  </tbody>\n",
       "</table>\n",
       "<p>106856 rows × 6 columns</p>\n",
       "</div>"
      ],
      "text/plain": [
       "        MSISDN/Number  Avg_TCP_Retransmission   Avg_RTT  \\\n",
       "0        3.360100e+10            2.725529e-03  0.000475   \n",
       "1        3.360100e+10            2.725529e-03  0.000320   \n",
       "2        3.360100e+10            2.725529e-03  0.001409   \n",
       "3        3.360101e+10            3.426491e-07  0.000867   \n",
       "4        3.360101e+10            1.508884e-03  0.000614   \n",
       "...               ...                     ...       ...   \n",
       "106851   3.379000e+10            3.510881e-05  0.000537   \n",
       "106852   3.379000e+10            2.725529e-03  0.000413   \n",
       "106853   3.197021e+12            2.725529e-03  0.001409   \n",
       "106854   3.370000e+14            2.725529e-03  0.001409   \n",
       "106855   8.823971e+14            2.725529e-03  0.001409   \n",
       "\n",
       "                            Handset_Type  Avg_Throughput  Experience Score  \n",
       "0         Huawei P20 Lite Huawei Nova 3E        0.000268          0.190525  \n",
       "1                 Apple iPhone 7 (A1778)        0.000349          0.190446  \n",
       "2                              undefined        0.000342          0.190452  \n",
       "3                Apple iPhone 5S (A1457)        0.000873          0.189996  \n",
       "4                Apple iPhone Se (A1723)        0.100102          0.092447  \n",
       "...                                  ...             ...               ...  \n",
       "106851               Huawei Honor 9 Lite        0.036505          0.154982  \n",
       "106852       Apple iPhone 8 Plus (A1897)        0.000409          0.190387  \n",
       "106853  Quectel Wireless. Quectel Ec25-E        0.000004          0.190784  \n",
       "106854                  Huawei B525S-23A        0.000116          0.190673  \n",
       "106855  Quectel Wireless. Quectel Ec21-E        0.000007          0.190781  \n",
       "\n",
       "[106856 rows x 6 columns]"
      ]
     },
     "execution_count": 43,
     "metadata": {},
     "output_type": "execute_result"
    }
   ],
   "source": [
    "aggregated_data1"
   ]
  },
  {
   "cell_type": "code",
   "execution_count": null,
   "id": "607751cc",
   "metadata": {},
   "outputs": [],
   "source": []
  },
  {
   "cell_type": "code",
   "execution_count": null,
   "id": "8598d201",
   "metadata": {},
   "outputs": [],
   "source": []
  },
  {
   "cell_type": "markdown",
   "id": "c6e72cee",
   "metadata": {},
   "source": [
    "#### Task 4.2 - Consider the average of both engagement & experience scores as the satisfaction  score & report the top 10 satisfied customer"
   ]
  },
  {
   "cell_type": "code",
   "execution_count": null,
   "id": "3fd8d471",
   "metadata": {},
   "outputs": [],
   "source": []
  },
  {
   "cell_type": "code",
   "execution_count": 44,
   "id": "cd65d3b5",
   "metadata": {},
   "outputs": [
    {
     "data": {
      "text/html": [
       "<div>\n",
       "<style scoped>\n",
       "    .dataframe tbody tr th:only-of-type {\n",
       "        vertical-align: middle;\n",
       "    }\n",
       "\n",
       "    .dataframe tbody tr th {\n",
       "        vertical-align: top;\n",
       "    }\n",
       "\n",
       "    .dataframe thead th {\n",
       "        text-align: right;\n",
       "    }\n",
       "</style>\n",
       "<table border=\"1\" class=\"dataframe\">\n",
       "  <thead>\n",
       "    <tr style=\"text-align: right;\">\n",
       "      <th></th>\n",
       "      <th>MSISDN/Number</th>\n",
       "      <th>Engagement Score</th>\n",
       "      <th>Experience Score</th>\n",
       "    </tr>\n",
       "  </thead>\n",
       "  <tbody>\n",
       "    <tr>\n",
       "      <th>0</th>\n",
       "      <td>3.360100e+10</td>\n",
       "      <td>0.023262</td>\n",
       "      <td>0.190525</td>\n",
       "    </tr>\n",
       "    <tr>\n",
       "      <th>1</th>\n",
       "      <td>3.360100e+10</td>\n",
       "      <td>0.025866</td>\n",
       "      <td>0.190446</td>\n",
       "    </tr>\n",
       "    <tr>\n",
       "      <th>2</th>\n",
       "      <td>3.360100e+10</td>\n",
       "      <td>0.003462</td>\n",
       "      <td>0.190452</td>\n",
       "    </tr>\n",
       "    <tr>\n",
       "      <th>3</th>\n",
       "      <td>3.360101e+10</td>\n",
       "      <td>0.007417</td>\n",
       "      <td>0.189996</td>\n",
       "    </tr>\n",
       "    <tr>\n",
       "      <th>4</th>\n",
       "      <td>3.360101e+10</td>\n",
       "      <td>0.064264</td>\n",
       "      <td>0.092447</td>\n",
       "    </tr>\n",
       "    <tr>\n",
       "      <th>...</th>\n",
       "      <td>...</td>\n",
       "      <td>...</td>\n",
       "      <td>...</td>\n",
       "    </tr>\n",
       "    <tr>\n",
       "      <th>106851</th>\n",
       "      <td>3.379000e+10</td>\n",
       "      <td>0.012225</td>\n",
       "      <td>0.154982</td>\n",
       "    </tr>\n",
       "    <tr>\n",
       "      <th>106852</th>\n",
       "      <td>3.379000e+10</td>\n",
       "      <td>0.003158</td>\n",
       "      <td>0.190387</td>\n",
       "    </tr>\n",
       "    <tr>\n",
       "      <th>106853</th>\n",
       "      <td>3.197021e+12</td>\n",
       "      <td>0.032340</td>\n",
       "      <td>0.190784</td>\n",
       "    </tr>\n",
       "    <tr>\n",
       "      <th>106854</th>\n",
       "      <td>3.370000e+14</td>\n",
       "      <td>0.005386</td>\n",
       "      <td>0.190673</td>\n",
       "    </tr>\n",
       "    <tr>\n",
       "      <th>106855</th>\n",
       "      <td>8.823971e+14</td>\n",
       "      <td>0.036717</td>\n",
       "      <td>0.190781</td>\n",
       "    </tr>\n",
       "  </tbody>\n",
       "</table>\n",
       "<p>106856 rows × 3 columns</p>\n",
       "</div>"
      ],
      "text/plain": [
       "        MSISDN/Number  Engagement Score  Experience Score\n",
       "0        3.360100e+10          0.023262          0.190525\n",
       "1        3.360100e+10          0.025866          0.190446\n",
       "2        3.360100e+10          0.003462          0.190452\n",
       "3        3.360101e+10          0.007417          0.189996\n",
       "4        3.360101e+10          0.064264          0.092447\n",
       "...               ...               ...               ...\n",
       "106851   3.379000e+10          0.012225          0.154982\n",
       "106852   3.379000e+10          0.003158          0.190387\n",
       "106853   3.197021e+12          0.032340          0.190784\n",
       "106854   3.370000e+14          0.005386          0.190673\n",
       "106855   8.823971e+14          0.036717          0.190781\n",
       "\n",
       "[106856 rows x 3 columns]"
      ]
     },
     "execution_count": 44,
     "metadata": {},
     "output_type": "execute_result"
    }
   ],
   "source": [
    "df = pd.DataFrame({\n",
    "    'MSISDN/Number': aggregated_data.index,\n",
    "    'Engagement Score': aggregated_data['Engagement Score']\n",
    "})\n",
    "\n",
    "df = df.reset_index(drop=True)\n",
    "\n",
    "df['Experience Score'] = experience_scores\n",
    "df\n",
    "\n",
    "\n",
    "\n",
    "\n",
    "\n"
   ]
  },
  {
   "cell_type": "code",
   "execution_count": 45,
   "id": "dc4a087a",
   "metadata": {
    "scrolled": true
   },
   "outputs": [],
   "source": [
    "df['Satisfaction Score'] = (df['Engagement Score'] + df['Experience Score']) / 2\n"
   ]
  },
  {
   "cell_type": "code",
   "execution_count": 46,
   "id": "25c2927c",
   "metadata": {},
   "outputs": [
    {
     "data": {
      "text/plain": [
       "0         0.106894\n",
       "1         0.108156\n",
       "2         0.096957\n",
       "3         0.098706\n",
       "4         0.078356\n",
       "            ...   \n",
       "106851    0.083604\n",
       "106852    0.096773\n",
       "106853    0.111562\n",
       "106854    0.098030\n",
       "106855    0.113749\n",
       "Name: Satisfaction Score, Length: 106856, dtype: float64"
      ]
     },
     "execution_count": 46,
     "metadata": {},
     "output_type": "execute_result"
    }
   ],
   "source": [
    "df['Satisfaction Score']"
   ]
  },
  {
   "cell_type": "code",
   "execution_count": 47,
   "id": "e214ec18",
   "metadata": {},
   "outputs": [
    {
     "data": {
      "text/html": [
       "<div>\n",
       "<style scoped>\n",
       "    .dataframe tbody tr th:only-of-type {\n",
       "        vertical-align: middle;\n",
       "    }\n",
       "\n",
       "    .dataframe tbody tr th {\n",
       "        vertical-align: top;\n",
       "    }\n",
       "\n",
       "    .dataframe thead th {\n",
       "        text-align: right;\n",
       "    }\n",
       "</style>\n",
       "<table border=\"1\" class=\"dataframe\">\n",
       "  <thead>\n",
       "    <tr style=\"text-align: right;\">\n",
       "      <th></th>\n",
       "      <th>MSISDN/Number</th>\n",
       "      <th>Engagement Score</th>\n",
       "      <th>Experience Score</th>\n",
       "      <th>Satisfaction Score</th>\n",
       "    </tr>\n",
       "  </thead>\n",
       "  <tbody>\n",
       "    <tr>\n",
       "      <th>0</th>\n",
       "      <td>3.360100e+10</td>\n",
       "      <td>0.023262</td>\n",
       "      <td>0.190525</td>\n",
       "      <td>0.106894</td>\n",
       "    </tr>\n",
       "    <tr>\n",
       "      <th>1</th>\n",
       "      <td>3.360100e+10</td>\n",
       "      <td>0.025866</td>\n",
       "      <td>0.190446</td>\n",
       "      <td>0.108156</td>\n",
       "    </tr>\n",
       "    <tr>\n",
       "      <th>2</th>\n",
       "      <td>3.360100e+10</td>\n",
       "      <td>0.003462</td>\n",
       "      <td>0.190452</td>\n",
       "      <td>0.096957</td>\n",
       "    </tr>\n",
       "    <tr>\n",
       "      <th>3</th>\n",
       "      <td>3.360101e+10</td>\n",
       "      <td>0.007417</td>\n",
       "      <td>0.189996</td>\n",
       "      <td>0.098706</td>\n",
       "    </tr>\n",
       "    <tr>\n",
       "      <th>4</th>\n",
       "      <td>3.360101e+10</td>\n",
       "      <td>0.064264</td>\n",
       "      <td>0.092447</td>\n",
       "      <td>0.078356</td>\n",
       "    </tr>\n",
       "    <tr>\n",
       "      <th>...</th>\n",
       "      <td>...</td>\n",
       "      <td>...</td>\n",
       "      <td>...</td>\n",
       "      <td>...</td>\n",
       "    </tr>\n",
       "    <tr>\n",
       "      <th>106851</th>\n",
       "      <td>3.379000e+10</td>\n",
       "      <td>0.012225</td>\n",
       "      <td>0.154982</td>\n",
       "      <td>0.083604</td>\n",
       "    </tr>\n",
       "    <tr>\n",
       "      <th>106852</th>\n",
       "      <td>3.379000e+10</td>\n",
       "      <td>0.003158</td>\n",
       "      <td>0.190387</td>\n",
       "      <td>0.096773</td>\n",
       "    </tr>\n",
       "    <tr>\n",
       "      <th>106853</th>\n",
       "      <td>3.197021e+12</td>\n",
       "      <td>0.032340</td>\n",
       "      <td>0.190784</td>\n",
       "      <td>0.111562</td>\n",
       "    </tr>\n",
       "    <tr>\n",
       "      <th>106854</th>\n",
       "      <td>3.370000e+14</td>\n",
       "      <td>0.005386</td>\n",
       "      <td>0.190673</td>\n",
       "      <td>0.098030</td>\n",
       "    </tr>\n",
       "    <tr>\n",
       "      <th>106855</th>\n",
       "      <td>8.823971e+14</td>\n",
       "      <td>0.036717</td>\n",
       "      <td>0.190781</td>\n",
       "      <td>0.113749</td>\n",
       "    </tr>\n",
       "  </tbody>\n",
       "</table>\n",
       "<p>106856 rows × 4 columns</p>\n",
       "</div>"
      ],
      "text/plain": [
       "        MSISDN/Number  Engagement Score  Experience Score  Satisfaction Score\n",
       "0        3.360100e+10          0.023262          0.190525            0.106894\n",
       "1        3.360100e+10          0.025866          0.190446            0.108156\n",
       "2        3.360100e+10          0.003462          0.190452            0.096957\n",
       "3        3.360101e+10          0.007417          0.189996            0.098706\n",
       "4        3.360101e+10          0.064264          0.092447            0.078356\n",
       "...               ...               ...               ...                 ...\n",
       "106851   3.379000e+10          0.012225          0.154982            0.083604\n",
       "106852   3.379000e+10          0.003158          0.190387            0.096773\n",
       "106853   3.197021e+12          0.032340          0.190784            0.111562\n",
       "106854   3.370000e+14          0.005386          0.190673            0.098030\n",
       "106855   8.823971e+14          0.036717          0.190781            0.113749\n",
       "\n",
       "[106856 rows x 4 columns]"
      ]
     },
     "execution_count": 47,
     "metadata": {},
     "output_type": "execute_result"
    }
   ],
   "source": [
    "df"
   ]
  },
  {
   "cell_type": "code",
   "execution_count": 48,
   "id": "637e3314",
   "metadata": {},
   "outputs": [
    {
     "name": "stdout",
     "output_type": "stream",
     "text": [
      "       MSISDN/Number  Engagement Score  Experience Score  Satisfaction Score\n",
      "13180   3.362578e+10          1.000000          0.148402            0.574201\n",
      "13526   3.362632e+10          0.861383          0.167523            0.514453\n",
      "47983   3.366232e+10          0.019784          1.000000            0.509892\n",
      "33226   3.365889e+10          0.001554          0.976529            0.489041\n",
      "6437    3.361489e+10          0.869405          0.104083            0.486744\n",
      "92923   3.376054e+10          0.770484          0.148046            0.459265\n",
      "61964   3.366610e+10          0.001550          0.858325            0.429937\n",
      "37052   3.365973e+10          0.714668          0.129011            0.421840\n",
      "76363   3.367588e+10          0.690969          0.143856            0.417413\n",
      "37838   3.365991e+10          0.007509          0.791114            0.399311\n"
     ]
    }
   ],
   "source": [
    "top_10_satisfied_customers = df.sort_values(by='Satisfaction Score', ascending=False).head(10)\n",
    "print(top_10_satisfied_customers)"
   ]
  },
  {
   "cell_type": "code",
   "execution_count": null,
   "id": "d5272e64",
   "metadata": {},
   "outputs": [],
   "source": []
  },
  {
   "cell_type": "markdown",
   "id": "221ca65a",
   "metadata": {},
   "source": [
    "# Task 4.3 - Build a regression model of your choice to predict the satisfaction score of a customer"
   ]
  },
  {
   "cell_type": "code",
   "execution_count": 49,
   "id": "617d06df",
   "metadata": {},
   "outputs": [],
   "source": [
    "from sklearn.model_selection import train_test_split\n",
    "from sklearn.linear_model import LinearRegression\n",
    "from sklearn.metrics import mean_squared_error"
   ]
  },
  {
   "cell_type": "code",
   "execution_count": 50,
   "id": "bf8b83a0",
   "metadata": {},
   "outputs": [],
   "source": [
    "X = df[['Engagement Score', 'Experience Score']]\n",
    "y = df['Satisfaction Score']\n"
   ]
  },
  {
   "cell_type": "code",
   "execution_count": 51,
   "id": "c6914b41",
   "metadata": {},
   "outputs": [],
   "source": [
    "# Split the data into training and testing sets\n",
    "X_train, X_test, y_train, y_test = train_test_split(X, y, test_size=0.2, random_state=42)"
   ]
  },
  {
   "cell_type": "code",
   "execution_count": 52,
   "id": "1fa4c7a1",
   "metadata": {},
   "outputs": [],
   "source": [
    "# Create a linear regression model\n",
    "model = LinearRegression()"
   ]
  },
  {
   "cell_type": "code",
   "execution_count": 53,
   "id": "98da41a0",
   "metadata": {},
   "outputs": [
    {
     "data": {
      "text/plain": [
       "LinearRegression()"
      ]
     },
     "execution_count": 53,
     "metadata": {},
     "output_type": "execute_result"
    }
   ],
   "source": [
    "# Train the model\n",
    "model.fit(X_train, y_train)"
   ]
  },
  {
   "cell_type": "code",
   "execution_count": 54,
   "id": "29965bad",
   "metadata": {},
   "outputs": [],
   "source": [
    "# Make predictions on the testing set\n",
    "y_pred = model.predict(X_test)"
   ]
  },
  {
   "cell_type": "code",
   "execution_count": 55,
   "id": "db8c0a3e",
   "metadata": {},
   "outputs": [
    {
     "data": {
      "text/plain": [
       "array([0.09794008, 0.09765824, 0.10438559, ..., 0.14441115, 0.08775293,\n",
       "       0.06080222])"
      ]
     },
     "execution_count": 55,
     "metadata": {},
     "output_type": "execute_result"
    }
   ],
   "source": [
    "y_pred"
   ]
  },
  {
   "cell_type": "code",
   "execution_count": 56,
   "id": "b464d63b",
   "metadata": {},
   "outputs": [
    {
     "data": {
      "text/plain": [
       "64473    0.097940\n",
       "83243    0.097658\n",
       "39296    0.104386\n",
       "44869    0.074523\n",
       "99282    0.097738\n",
       "           ...   \n",
       "67669    0.058748\n",
       "63720    0.095747\n",
       "16701    0.144411\n",
       "44897    0.087753\n",
       "97963    0.060802\n",
       "Name: Satisfaction Score, Length: 21372, dtype: float64"
      ]
     },
     "execution_count": 56,
     "metadata": {},
     "output_type": "execute_result"
    }
   ],
   "source": [
    "y_test"
   ]
  },
  {
   "cell_type": "code",
   "execution_count": 57,
   "id": "4a3edef1",
   "metadata": {
    "scrolled": true
   },
   "outputs": [
    {
     "name": "stdout",
     "output_type": "stream",
     "text": [
      "Mean Squared Error: 1.947356132912911e-33\n"
     ]
    }
   ],
   "source": [
    "# Evaluate the model\n",
    "mse = mean_squared_error(y_test, y_pred)\n",
    "print('Mean Squared Error:', mse)"
   ]
  },
  {
   "cell_type": "markdown",
   "id": "519ca83c",
   "metadata": {},
   "source": [
    "e-33\" indicates that the value should be multiplied by 10 raised to the power of -33."
   ]
  },
  {
   "cell_type": "markdown",
   "id": "c447f2b8",
   "metadata": {},
   "source": [
    "2.044560350258077 * 10^(-33)"
   ]
  },
  {
   "cell_type": "markdown",
   "id": "e9c61859",
   "metadata": {},
   "source": [
    "The mean squared error (MSE) calculated for the regression model is extremely low, as indicated by the value of2.044560350258077e-33. This value is close to zero, which suggests that the predicted values from the model are almost identical to the actual values in the test dataset."
   ]
  },
  {
   "cell_type": "markdown",
   "id": "83f76e63",
   "metadata": {},
   "source": [
    "Such a low MSE indicates that the regression model is performing exceptionally well in predicting the satisfaction score based on the given features (engagement score and experience score). The model seems to capture the underlying patterns and relationships in the data with very high accuracy."
   ]
  },
  {
   "cell_type": "code",
   "execution_count": 58,
   "id": "e4410922",
   "metadata": {},
   "outputs": [],
   "source": [
    "from sklearn.metrics import mean_absolute_error\n"
   ]
  },
  {
   "cell_type": "code",
   "execution_count": 59,
   "id": "66013708",
   "metadata": {},
   "outputs": [],
   "source": [
    "# Calculate MAE\n",
    "mae = mean_absolute_error(y_test, y_pred)"
   ]
  },
  {
   "cell_type": "code",
   "execution_count": 60,
   "id": "982670bf",
   "metadata": {},
   "outputs": [
    {
     "name": "stdout",
     "output_type": "stream",
     "text": [
      "Mean Absolute Error (MAE): 2.8857330378030197e-17\n"
     ]
    }
   ],
   "source": [
    "print(\"Mean Absolute Error (MAE):\", mae)"
   ]
  },
  {
   "cell_type": "markdown",
   "id": "fecd5a32",
   "metadata": {},
   "source": [
    "The Mean Absolute Error (MAE) value you provided, 4.088690148975346e-17, is an extremely small number, close to zero. In scientific notation, the \"e-17\" indicates that the value should be multiplied by 10 raised to the power of -17.\n",
    "\n",
    "Such a low MAE suggests that the predicted values are nearly identical to the actual values. It indicates a very high level of accuracy in the predictions, with an extremely minimal amount of error."
   ]
  },
  {
   "cell_type": "code",
   "execution_count": 61,
   "id": "221d1c7a",
   "metadata": {},
   "outputs": [],
   "source": [
    "from sklearn.metrics import r2_score"
   ]
  },
  {
   "cell_type": "code",
   "execution_count": 62,
   "id": "349fa84e",
   "metadata": {},
   "outputs": [],
   "source": [
    "r2 = r2_score(y_test, y_pred)"
   ]
  },
  {
   "cell_type": "code",
   "execution_count": 63,
   "id": "e656221d",
   "metadata": {},
   "outputs": [
    {
     "name": "stdout",
     "output_type": "stream",
     "text": [
      "R-squared: 1.0\n"
     ]
    }
   ],
   "source": [
    "print(\"R-squared:\", r2)"
   ]
  },
  {
   "cell_type": "markdown",
   "id": "5d44f95b",
   "metadata": {},
   "source": [
    "If you have obtained an R-squared value of 1.0 for your linear model, it indicates that the model perfectly fits the data. An R-squared of 1.0 means that the model explains all the variability in the dependent variable (y) using the independent variable(s) (X)."
   ]
  },
  {
   "cell_type": "markdown",
   "id": "4e99dfda",
   "metadata": {},
   "source": [
    "However, it is important to consider the context and potential limitations. It is possible that the perfect fit is due to overfitting, especially as the model has been trained and tested on the same dataset. "
   ]
  },
  {
   "cell_type": "markdown",
   "id": "b66ec0de",
   "metadata": {},
   "source": [
    "# Task 4.4 - Run a k-means (k=2) on the engagement & the experience score"
   ]
  },
  {
   "cell_type": "code",
   "execution_count": 64,
   "id": "e1bf9a01",
   "metadata": {},
   "outputs": [],
   "source": [
    "from sklearn.cluster import KMeans"
   ]
  },
  {
   "cell_type": "code",
   "execution_count": 65,
   "id": "92aa17e5",
   "metadata": {},
   "outputs": [],
   "source": [
    "# Prepare the data for clustering\n",
    "data = df[['Engagement Score', 'Experience Score']]\n",
    "X = data.values"
   ]
  },
  {
   "cell_type": "code",
   "execution_count": 66,
   "id": "c7d9d2b0",
   "metadata": {},
   "outputs": [
    {
     "data": {
      "text/plain": [
       "KMeans(n_clusters=2, random_state=42)"
      ]
     },
     "execution_count": 66,
     "metadata": {},
     "output_type": "execute_result"
    }
   ],
   "source": [
    "# Run K-means clustering\n",
    "k = 2\n",
    "kmeans = KMeans(n_clusters=k, random_state=42)\n",
    "kmeans.fit(X)\n"
   ]
  },
  {
   "cell_type": "code",
   "execution_count": 67,
   "id": "9c4e7173",
   "metadata": {},
   "outputs": [],
   "source": [
    "# Get the cluster labels\n",
    "cluster_labels = kmeans.labels_"
   ]
  },
  {
   "cell_type": "code",
   "execution_count": 68,
   "id": "09ec3d31",
   "metadata": {},
   "outputs": [
    {
     "data": {
      "image/png": "[encoded data removed]",
      "text/plain": [
       "<Figure size 640x480 with 1 Axes>"
      ]
     },
     "metadata": {},
     "output_type": "display_data"
    }
   ],
   "source": [
    "# Plot the clusters\n",
    "plt.scatter(X[:, 0], X[:, 1], c=cluster_labels, cmap='viridis')\n",
    "plt.xlabel('Engagement Score')\n",
    "plt.ylabel('Experience Score')\n",
    "plt.title('K-means Clustering (k=2) on Engagement & Experience Scores')\n",
    "plt.show()"
   ]
  },
  {
   "cell_type": "code",
   "execution_count": null,
   "id": "62f144e7",
   "metadata": {},
   "outputs": [],
   "source": []
  },
  {
   "cell_type": "markdown",
   "id": "d8f3b515",
   "metadata": {},
   "source": [
    "# Task 4.5 - Aggregate the average satisfaction & experience score per cluster. "
   ]
  },
  {
   "cell_type": "code",
   "execution_count": 69,
   "id": "603deaf6",
   "metadata": {},
   "outputs": [],
   "source": [
    "# Create a new DataFrame with cluster labels and satisfaction/experience scores\n",
    "cluster_data = pd.DataFrame({'Cluster': cluster_labels, 'Satisfaction Score': df['Satisfaction Score'], 'Experience Score': df['Experience Score']})\n",
    "\n"
   ]
  },
  {
   "cell_type": "code",
   "execution_count": 70,
   "id": "b6452e6f",
   "metadata": {},
   "outputs": [],
   "source": [
    "# Calculate the average satisfaction and experience score per cluster\n",
    "cluster_agg = cluster_data.groupby('Cluster').mean()\n",
    "\n"
   ]
  },
  {
   "cell_type": "code",
   "execution_count": 71,
   "id": "a7928313",
   "metadata": {
    "scrolled": true
   },
   "outputs": [
    {
     "data": {
      "text/html": [
       "<div>\n",
       "<style scoped>\n",
       "    .dataframe tbody tr th:only-of-type {\n",
       "        vertical-align: middle;\n",
       "    }\n",
       "\n",
       "    .dataframe tbody tr th {\n",
       "        vertical-align: top;\n",
       "    }\n",
       "\n",
       "    .dataframe thead th {\n",
       "        text-align: right;\n",
       "    }\n",
       "</style>\n",
       "<table border=\"1\" class=\"dataframe\">\n",
       "  <thead>\n",
       "    <tr style=\"text-align: right;\">\n",
       "      <th></th>\n",
       "      <th>Satisfaction Score</th>\n",
       "      <th>Experience Score</th>\n",
       "    </tr>\n",
       "    <tr>\n",
       "      <th>Cluster</th>\n",
       "      <th></th>\n",
       "      <th></th>\n",
       "    </tr>\n",
       "  </thead>\n",
       "  <tbody>\n",
       "    <tr>\n",
       "      <th>0</th>\n",
       "      <td>0.102832</td>\n",
       "      <td>0.184429</td>\n",
       "    </tr>\n",
       "    <tr>\n",
       "      <th>1</th>\n",
       "      <td>0.052170</td>\n",
       "      <td>0.070699</td>\n",
       "    </tr>\n",
       "  </tbody>\n",
       "</table>\n",
       "</div>"
      ],
      "text/plain": [
       "         Satisfaction Score  Experience Score\n",
       "Cluster                                      \n",
       "0                  0.102832          0.184429\n",
       "1                  0.052170          0.070699"
      ]
     },
     "execution_count": 71,
     "metadata": {},
     "output_type": "execute_result"
    }
   ],
   "source": [
    "cluster_agg"
   ]
  },
  {
   "cell_type": "code",
   "execution_count": 72,
   "id": "26e00b2b",
   "metadata": {},
   "outputs": [
    {
     "data": {
      "text/plain": [
       "Index(['Satisfaction Score', 'Experience Score'], dtype='object')"
      ]
     },
     "execution_count": 72,
     "metadata": {},
     "output_type": "execute_result"
    }
   ],
   "source": [
    "cluster_agg.columns"
   ]
  },
  {
   "cell_type": "markdown",
   "id": "7bb3cd10",
   "metadata": {},
   "source": [
    "These scores provide an overview of the average satisfaction and experience levels within each cluster. Cluster 0 has higher average scores compared to Cluster 1, indicating potentially higher satisfaction and better experiences for customers in Cluster 1."
   ]
  },
  {
   "cell_type": "code",
   "execution_count": 73,
   "id": "2bbba3bd",
   "metadata": {},
   "outputs": [
    {
     "data": {
      "image/png": "[encoded data removed]",
      "text/plain": [
       "<Figure size 800x600 with 1 Axes>"
      ]
     },
     "metadata": {},
     "output_type": "display_data"
    },
    {
     "data": {
      "image/png": "[encoded data removed]",
      "text/plain": [
       "<Figure size 800x600 with 1 Axes>"
      ]
     },
     "metadata": {},
     "output_type": "display_data"
    }
   ],
   "source": [
    "# Define the cluster labels and average scores\n",
    "cluster_labels = ['Cluster 0', 'Cluster 1']\n",
    "avg_satisfaction_scores = cluster_agg['Satisfaction Score']\n",
    "avg_experience_scores =cluster_agg['Experience Score']\n",
    "\n",
    "# Plot the average satisfaction scores\n",
    "plt.figure(figsize=(8, 6))\n",
    "plt.bar(cluster_labels, avg_satisfaction_scores, color='blue')\n",
    "plt.xlabel('Cluster')\n",
    "plt.ylabel('Average Satisfaction Score')\n",
    "plt.title('Average Satisfaction Score per Cluster')\n",
    "\n",
    "# Display the plot\n",
    "plt.show()\n",
    "\n",
    "# Plot the average experience scores\n",
    "plt.figure(figsize=(8, 6))\n",
    "plt.bar(cluster_labels, avg_experience_scores, color='green')\n",
    "plt.xlabel('Cluster')\n",
    "plt.ylabel('Average Experience Score')\n",
    "plt.title('Average Experience Score per Cluster')\n",
    "\n",
    "# Display the plot\n",
    "plt.show()"
   ]
  },
  {
   "cell_type": "code",
   "execution_count": 74,
   "id": "b2c5cd1a",
   "metadata": {},
   "outputs": [
    {
     "data": {
      "text/html": [
       "<div>\n",
       "<style scoped>\n",
       "    .dataframe tbody tr th:only-of-type {\n",
       "        vertical-align: middle;\n",
       "    }\n",
       "\n",
       "    .dataframe tbody tr th {\n",
       "        vertical-align: top;\n",
       "    }\n",
       "\n",
       "    .dataframe thead th {\n",
       "        text-align: right;\n",
       "    }\n",
       "</style>\n",
       "<table border=\"1\" class=\"dataframe\">\n",
       "  <thead>\n",
       "    <tr style=\"text-align: right;\">\n",
       "      <th></th>\n",
       "      <th>MSISDN/Number</th>\n",
       "      <th>Engagement Score</th>\n",
       "      <th>Experience Score</th>\n",
       "      <th>Satisfaction Score</th>\n",
       "    </tr>\n",
       "  </thead>\n",
       "  <tbody>\n",
       "    <tr>\n",
       "      <th>0</th>\n",
       "      <td>3.360100e+10</td>\n",
       "      <td>0.023262</td>\n",
       "      <td>0.190525</td>\n",
       "      <td>0.106894</td>\n",
       "    </tr>\n",
       "    <tr>\n",
       "      <th>1</th>\n",
       "      <td>3.360100e+10</td>\n",
       "      <td>0.025866</td>\n",
       "      <td>0.190446</td>\n",
       "      <td>0.108156</td>\n",
       "    </tr>\n",
       "    <tr>\n",
       "      <th>2</th>\n",
       "      <td>3.360100e+10</td>\n",
       "      <td>0.003462</td>\n",
       "      <td>0.190452</td>\n",
       "      <td>0.096957</td>\n",
       "    </tr>\n",
       "    <tr>\n",
       "      <th>3</th>\n",
       "      <td>3.360101e+10</td>\n",
       "      <td>0.007417</td>\n",
       "      <td>0.189996</td>\n",
       "      <td>0.098706</td>\n",
       "    </tr>\n",
       "    <tr>\n",
       "      <th>4</th>\n",
       "      <td>3.360101e+10</td>\n",
       "      <td>0.064264</td>\n",
       "      <td>0.092447</td>\n",
       "      <td>0.078356</td>\n",
       "    </tr>\n",
       "    <tr>\n",
       "      <th>...</th>\n",
       "      <td>...</td>\n",
       "      <td>...</td>\n",
       "      <td>...</td>\n",
       "      <td>...</td>\n",
       "    </tr>\n",
       "    <tr>\n",
       "      <th>106851</th>\n",
       "      <td>3.379000e+10</td>\n",
       "      <td>0.012225</td>\n",
       "      <td>0.154982</td>\n",
       "      <td>0.083604</td>\n",
       "    </tr>\n",
       "    <tr>\n",
       "      <th>106852</th>\n",
       "      <td>3.379000e+10</td>\n",
       "      <td>0.003158</td>\n",
       "      <td>0.190387</td>\n",
       "      <td>0.096773</td>\n",
       "    </tr>\n",
       "    <tr>\n",
       "      <th>106853</th>\n",
       "      <td>3.197021e+12</td>\n",
       "      <td>0.032340</td>\n",
       "      <td>0.190784</td>\n",
       "      <td>0.111562</td>\n",
       "    </tr>\n",
       "    <tr>\n",
       "      <th>106854</th>\n",
       "      <td>3.370000e+14</td>\n",
       "      <td>0.005386</td>\n",
       "      <td>0.190673</td>\n",
       "      <td>0.098030</td>\n",
       "    </tr>\n",
       "    <tr>\n",
       "      <th>106855</th>\n",
       "      <td>8.823971e+14</td>\n",
       "      <td>0.036717</td>\n",
       "      <td>0.190781</td>\n",
       "      <td>0.113749</td>\n",
       "    </tr>\n",
       "  </tbody>\n",
       "</table>\n",
       "<p>106856 rows × 4 columns</p>\n",
       "</div>"
      ],
      "text/plain": [
       "        MSISDN/Number  Engagement Score  Experience Score  Satisfaction Score\n",
       "0        3.360100e+10          0.023262          0.190525            0.106894\n",
       "1        3.360100e+10          0.025866          0.190446            0.108156\n",
       "2        3.360100e+10          0.003462          0.190452            0.096957\n",
       "3        3.360101e+10          0.007417          0.189996            0.098706\n",
       "4        3.360101e+10          0.064264          0.092447            0.078356\n",
       "...               ...               ...               ...                 ...\n",
       "106851   3.379000e+10          0.012225          0.154982            0.083604\n",
       "106852   3.379000e+10          0.003158          0.190387            0.096773\n",
       "106853   3.197021e+12          0.032340          0.190784            0.111562\n",
       "106854   3.370000e+14          0.005386          0.190673            0.098030\n",
       "106855   8.823971e+14          0.036717          0.190781            0.113749\n",
       "\n",
       "[106856 rows x 4 columns]"
      ]
     },
     "execution_count": 74,
     "metadata": {},
     "output_type": "execute_result"
    }
   ],
   "source": [
    "df"
   ]
  }
 ],
 "metadata": {
  "kernelspec": {
   "display_name": "Python 3 (ipykernel)",
   "language": "python",
   "name": "python3"
  },
  "language_info": {
   "codemirror_mode": {
    "name": "ipython",
    "version": 3
   },
   "file_extension": ".py",
   "mimetype": "text/x-python",
   "name": "python",
   "nbconvert_exporter": "python",
   "pygments_lexer": "ipython3",
   "version": "3.10.9"
  }
 },
 "nbformat": 4,
 "nbformat_minor": 5
}
